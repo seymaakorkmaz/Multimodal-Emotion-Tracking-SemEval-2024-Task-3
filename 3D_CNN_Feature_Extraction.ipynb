{
  "nbformat": 4,
  "nbformat_minor": 0,
  "metadata": {
    "colab": {
      "provenance": []
    },
    "kernelspec": {
      "name": "python3",
      "display_name": "Python 3"
    },
    "language_info": {
      "name": "python"
    }
  },
  "cells": [
    {
      "cell_type": "code",
      "source": [
        "from tensorflow.keras.models import Sequential\n",
        "from tensorflow.keras.layers import Conv3D, Activation, BatchNormalization, MaxPooling3D, Flatten, Dense, Dropout\n",
        "from tensorflow.keras import optimizers\n",
        "import cv2\n",
        "import numpy as np"
      ],
      "metadata": {
        "id": "o0YUCOgHQHZ5"
      },
      "execution_count": null,
      "outputs": []
    },
    {
      "cell_type": "code",
      "source": [
        "video_dir = '/content/drive/MyDrive/Multimodal Emotion Tracking/DEMO/Cropped Test Video'"
      ],
      "metadata": {
        "id": "s6bx_qV8985w"
      },
      "execution_count": null,
      "outputs": []
    },
    {
      "cell_type": "code",
      "source": [
        "import os\n",
        "import cv2\n",
        "import numpy as np\n",
        "from tensorflow.keras.models import Sequential\n",
        "from tensorflow.keras.layers import Conv3D, Activation, BatchNormalization, MaxPooling3D, Flatten, Dense, Dropout\n",
        "from tensorflow.keras import optimizers\n",
        "\n",
        "class Cov3DModelClass:\n",
        "\n",
        "    def define_model(self, NoOf3Dfilters, filtersize=(3,3,3), dense_neurons=512, dropout=0.25):\n",
        "        model = Sequential()\n",
        "        model.add(Conv3D(NoOf3Dfilters[0], filtersize, padding='same',\n",
        "                 input_shape=(self.frames_to_sample, self.image_height, self.image_width, self.channels)))\n",
        "        model.add(Activation('relu'))\n",
        "        model.add(BatchNormalization())\n",
        "        model.add(MaxPooling3D(pool_size=(2, 2, 2)))\n",
        "\n",
        "        for layer in range(len(NoOf3Dfilters)-1):\n",
        "            model.add(Conv3D(NoOf3Dfilters[layer+1], filtersize, padding='same'))\n",
        "            model.add(Activation('relu'))\n",
        "            model.add(BatchNormalization())\n",
        "            model.add(MaxPooling3D(pool_size=(2, 2, 2)))\n",
        "\n",
        "        model.add(Flatten())\n",
        "        model.add(Dense(dense_neurons, activation='relu'))\n",
        "        model.add(BatchNormalization())\n",
        "        model.add(Dropout(dropout))\n",
        "\n",
        "        model.add(Dense(dense_neurons, activation='relu'))\n",
        "        model.add(BatchNormalization())\n",
        "        model.add(Dropout(dropout))\n",
        "\n",
        "        # Dense layer to output feature vector\n",
        "        model.add(Dense(dense_neurons, activation='relu'))\n",
        "        model.add(BatchNormalization())\n",
        "\n",
        "        optimiser = optimizers.Adam(lr=0.0002)\n",
        "        model.compile(optimizer=optimiser, loss='mean_squared_error', metrics=['mean_squared_error'])\n",
        "\n",
        "        return model\n",
        "\n",
        "    def extract_features(self, video):\n",
        "        model = self.define_model([32, 64, 128])  # Adjust filter sizes and number as needed\n",
        "        features = model.predict(video)\n",
        "        return features\n",
        "\n",
        "def load_video(path, frames_to_sample, image_height, image_width):\n",
        "    cap = cv2.VideoCapture(path)\n",
        "    frames = []\n",
        "    total_frames = int(cap.get(cv2.CAP_PROP_FRAME_COUNT))\n",
        "    sample_interval = max(total_frames // frames_to_sample, 1)\n",
        "\n",
        "    for i in range(frames_to_sample):\n",
        "        cap.set(cv2.CAP_PROP_POS_FRAMES, i * sample_interval)\n",
        "        ret, frame = cap.read()\n",
        "        if ret:\n",
        "            frame = cv2.resize(frame, (image_width, image_height))\n",
        "            frames.append(frame)\n",
        "        else:\n",
        "            break\n",
        "\n",
        "    cap.release()\n",
        "    frames = np.array(frames)\n",
        "    frames = frames / 255.0  # Normalize to [0, 1]\n",
        "    return frames\n",
        "\n",
        "# Video directory path\n",
        "video_directory_path = video_dir\n",
        "\n",
        "# Load and preprocess the video\n",
        "frames_to_sample = 30  # Number of frames to sample\n",
        "image_height = 64\n",
        "image_width = 64\n",
        "channels = 3\n",
        "\n",
        "# Create an instance of the model class\n",
        "cov3d = Cov3DModelClass()\n",
        "cov3d.frames_to_sample = frames_to_sample\n",
        "cov3d.image_height = image_height\n",
        "cov3d.image_width = image_width\n",
        "cov3d.channels = channels\n",
        "\n",
        "# Initialize an empty list to store features\n",
        "all_features = []\n",
        "\n",
        "# Process each video in the directory\n",
        "for video_file in os.listdir(video_directory_path):\n",
        "    video_path = os.path.join(video_directory_path, video_file)\n",
        "    if not video_path.lower().endswith(('.mp4', '.avi', '.mov', '.mkv')):\n",
        "        continue  # Skip non-video files\n",
        "\n",
        "    # Load and preprocess the video\n",
        "    video_frames = load_video(video_path, frames_to_sample, image_height, image_width)\n",
        "\n",
        "    # Extract features\n",
        "    features = cov3d.extract_features(np.expand_dims(video_frames, axis=0))\n",
        "\n",
        "    # Append the features to the list\n",
        "    all_features.append(features)\n",
        "\n",
        "# Convert the list of features to a numpy array\n",
        "all_features = np.concatenate(all_features, axis=0)\n",
        "print(all_features)\n"
      ],
      "metadata": {
        "colab": {
          "base_uri": "https://localhost:8080/"
        },
        "id": "cl_NyjLBPeMm",
        "outputId": "17bba3fc-4581-4839-b6ae-bd0f30451b01"
      },
      "execution_count": null,
      "outputs": [
        {
          "output_type": "stream",
          "name": "stderr",
          "text": [
            "WARNING:absl:`lr` is deprecated in Keras optimizer, please use `learning_rate` or use the legacy optimizer, e.g.,tf.keras.optimizers.legacy.Adam.\n"
          ]
        },
        {
          "output_type": "stream",
          "name": "stdout",
          "text": [
            "1/1 [==============================] - 0s 323ms/step\n"
          ]
        },
        {
          "output_type": "stream",
          "name": "stderr",
          "text": [
            "WARNING:absl:`lr` is deprecated in Keras optimizer, please use `learning_rate` or use the legacy optimizer, e.g.,tf.keras.optimizers.legacy.Adam.\n"
          ]
        },
        {
          "output_type": "stream",
          "name": "stdout",
          "text": [
            "1/1 [==============================] - 0s 314ms/step\n"
          ]
        },
        {
          "output_type": "stream",
          "name": "stderr",
          "text": [
            "WARNING:absl:`lr` is deprecated in Keras optimizer, please use `learning_rate` or use the legacy optimizer, e.g.,tf.keras.optimizers.legacy.Adam.\n"
          ]
        },
        {
          "output_type": "stream",
          "name": "stdout",
          "text": [
            "1/1 [==============================] - 1s 526ms/step\n"
          ]
        },
        {
          "output_type": "stream",
          "name": "stderr",
          "text": [
            "WARNING:absl:`lr` is deprecated in Keras optimizer, please use `learning_rate` or use the legacy optimizer, e.g.,tf.keras.optimizers.legacy.Adam.\n"
          ]
        },
        {
          "output_type": "stream",
          "name": "stdout",
          "text": [
            "1/1 [==============================] - 0s 429ms/step\n"
          ]
        },
        {
          "output_type": "stream",
          "name": "stderr",
          "text": [
            "WARNING:absl:`lr` is deprecated in Keras optimizer, please use `learning_rate` or use the legacy optimizer, e.g.,tf.keras.optimizers.legacy.Adam.\n"
          ]
        },
        {
          "output_type": "stream",
          "name": "stdout",
          "text": [
            "1/1 [==============================] - 0s 314ms/step\n"
          ]
        },
        {
          "output_type": "stream",
          "name": "stderr",
          "text": [
            "WARNING:absl:`lr` is deprecated in Keras optimizer, please use `learning_rate` or use the legacy optimizer, e.g.,tf.keras.optimizers.legacy.Adam.\n"
          ]
        },
        {
          "output_type": "stream",
          "name": "stdout",
          "text": [
            "1/1 [==============================] - 0s 325ms/step\n"
          ]
        },
        {
          "output_type": "stream",
          "name": "stderr",
          "text": [
            "WARNING:absl:`lr` is deprecated in Keras optimizer, please use `learning_rate` or use the legacy optimizer, e.g.,tf.keras.optimizers.legacy.Adam.\n"
          ]
        },
        {
          "output_type": "stream",
          "name": "stdout",
          "text": [
            "1/1 [==============================] - 0s 366ms/step\n"
          ]
        },
        {
          "output_type": "stream",
          "name": "stderr",
          "text": [
            "WARNING:absl:`lr` is deprecated in Keras optimizer, please use `learning_rate` or use the legacy optimizer, e.g.,tf.keras.optimizers.legacy.Adam.\n"
          ]
        },
        {
          "output_type": "stream",
          "name": "stdout",
          "text": [
            "1/1 [==============================] - 0s 321ms/step\n"
          ]
        },
        {
          "output_type": "stream",
          "name": "stderr",
          "text": [
            "WARNING:absl:`lr` is deprecated in Keras optimizer, please use `learning_rate` or use the legacy optimizer, e.g.,tf.keras.optimizers.legacy.Adam.\n"
          ]
        },
        {
          "output_type": "stream",
          "name": "stdout",
          "text": [
            "1/1 [==============================] - 0s 333ms/step\n"
          ]
        },
        {
          "output_type": "stream",
          "name": "stderr",
          "text": [
            "WARNING:absl:`lr` is deprecated in Keras optimizer, please use `learning_rate` or use the legacy optimizer, e.g.,tf.keras.optimizers.legacy.Adam.\n"
          ]
        },
        {
          "output_type": "stream",
          "name": "stdout",
          "text": [
            "1/1 [==============================] - 0s 337ms/step\n",
            "[[0.00525217 0.004086   0.         ... 0.         0.         0.02732094]\n",
            " [0.07567284 0.01242337 0.05345793 ... 0.         0.02317854 0.04838737]\n",
            " [0.         0.         0.         ... 0.07870925 0.         0.        ]\n",
            " ...\n",
            " [0.10737726 0.00201567 0.         ... 0.         0.         0.        ]\n",
            " [0.01670427 0.00541949 0.00065322 ... 0.04721388 0.         0.        ]\n",
            " [0.04745089 0.         0.08129363 ... 0.         0.         0.        ]]\n"
          ]
        }
      ]
    },
    {
      "cell_type": "code",
      "source": [
        "len(all_features[0])"
      ],
      "metadata": {
        "colab": {
          "base_uri": "https://localhost:8080/"
        },
        "id": "utfJs-F_OBq_",
        "outputId": "0811dc0a-2486-4a6b-f270-8aa8d6ee5169"
      },
      "execution_count": null,
      "outputs": [
        {
          "output_type": "execute_result",
          "data": {
            "text/plain": [
              "512"
            ]
          },
          "metadata": {},
          "execution_count": 17
        }
      ]
    },
    {
      "cell_type": "code",
      "source": [
        "print(all_features[0])"
      ],
      "metadata": {
        "colab": {
          "base_uri": "https://localhost:8080/"
        },
        "id": "oyxOBG2AQl8l",
        "outputId": "d79d0bc7-128a-423b-b9e2-ae8d7c1c04c9"
      },
      "execution_count": null,
      "outputs": [
        {
          "output_type": "stream",
          "name": "stdout",
          "text": [
            "[0.00525217 0.004086   0.         0.         0.         0.\n",
            " 0.         0.         0.06876712 0.01881582 0.         0.\n",
            " 0.01011466 0.00637345 0.         0.03995518 0.         0.\n",
            " 0.07165907 0.05512283 0.00744957 0.01882856 0.03331876 0.01671855\n",
            " 0.         0.03845397 0.         0.07679415 0.01633142 0.\n",
            " 0.02191704 0.         0.00130009 0.         0.         0.\n",
            " 0.02163076 0.         0.         0.         0.06067532 0.07523557\n",
            " 0.01158576 0.         0.         0.         0.06952833 0.\n",
            " 0.         0.06148725 0.         0.03257024 0.03097127 0.\n",
            " 0.         0.02384413 0.         0.04175206 0.0645711  0.00621987\n",
            " 0.         0.08527883 0.         0.08006029 0.         0.06716938\n",
            " 0.06337073 0.         0.         0.         0.         0.00710717\n",
            " 0.03927256 0.         0.         0.09622052 0.04905767 0.\n",
            " 0.00877132 0.         0.00366448 0.00322532 0.05533671 0.\n",
            " 0.03510439 0.00412373 0.04478259 0.09894927 0.         0.00392587\n",
            " 0.08714505 0.         0.         0.         0.04247868 0.01230401\n",
            " 0.         0.         0.00639297 0.00890384 0.01123554 0.07273109\n",
            " 0.         0.03816234 0.04939409 0.         0.02225667 0.\n",
            " 0.         0.         0.         0.0476722  0.         0.\n",
            " 0.         0.         0.         0.05148355 0.01894009 0.00882856\n",
            " 0.         0.         0.         0.         0.07151811 0.00733326\n",
            " 0.         0.05514799 0.05818167 0.0060051  0.         0.\n",
            " 0.01209747 0.         0.06009982 0.05364046 0.         0.13537233\n",
            " 0.01418118 0.03874876 0.         0.         0.04227157 0.01682056\n",
            " 0.01053509 0.02860845 0.05982466 0.         0.01294084 0.\n",
            " 0.10085222 0.00185807 0.02933971 0.         0.03665042 0.05845392\n",
            " 0.01891017 0.12568201 0.04520911 0.04988609 0.05391078 0.0468254\n",
            " 0.01991681 0.04490817 0.01009801 0.02082964 0.         0.\n",
            " 0.02382845 0.         0.00716589 0.         0.         0.\n",
            " 0.02250637 0.         0.06959471 0.         0.         0.\n",
            " 0.00346132 0.         0.04027693 0.01159183 0.06775797 0.\n",
            " 0.         0.         0.03081595 0.03291342 0.         0.0735093\n",
            " 0.         0.04141637 0.         0.         0.         0.\n",
            " 0.         0.         0.04484225 0.         0.         0.01041534\n",
            " 0.01730678 0.         0.0118354  0.02603797 0.02905037 0.04130916\n",
            " 0.         0.02461302 0.00383157 0.10100508 0.         0.06768019\n",
            " 0.         0.01658547 0.04820022 0.         0.05711018 0.\n",
            " 0.01498083 0.01957461 0.         0.         0.01757039 0.\n",
            " 0.03934497 0.         0.         0.00468518 0.06341002 0.\n",
            " 0.01731142 0.00597197 0.01945218 0.08658279 0.         0.\n",
            " 0.11563508 0.06078934 0.02274775 0.         0.02230951 0.\n",
            " 0.01071231 0.         0.         0.00767724 0.         0.\n",
            " 0.04441259 0.         0.         0.         0.00268621 0.04216778\n",
            " 0.01484726 0.00835839 0.02031742 0.         0.         0.07015153\n",
            " 0.00643048 0.         0.00189055 0.         0.         0.\n",
            " 0.01902555 0.0060657  0.01504289 0.         0.         0.\n",
            " 0.         0.         0.09683403 0.         0.         0.03701794\n",
            " 0.         0.00096889 0.05434543 0.02711652 0.         0.01898896\n",
            " 0.         0.         0.04688335 0.         0.07712357 0.\n",
            " 0.01204403 0.         0.01663271 0.03289687 0.02002481 0.\n",
            " 0.04476031 0.02295176 0.         0.         0.         0.06475451\n",
            " 0.0211807  0.02305489 0.         0.         0.08418037 0.\n",
            " 0.02922589 0.01283875 0.         0.         0.01110299 0.\n",
            " 0.         0.         0.00268993 0.01499183 0.03120063 0.\n",
            " 0.         0.         0.         0.05228485 0.         0.02401559\n",
            " 0.01934099 0.         0.         0.02288111 0.04025126 0.\n",
            " 0.         0.         0.02513204 0.         0.02845324 0.02015668\n",
            " 0.         0.         0.08105167 0.04196308 0.03011521 0.07119926\n",
            " 0.00540466 0.01321689 0.         0.         0.00064162 0.03618029\n",
            " 0.         0.02990155 0.         0.         0.         0.03036348\n",
            " 0.01625248 0.         0.01996341 0.00771015 0.00891771 0.\n",
            " 0.         0.00591151 0.0137994  0.         0.         0.02508087\n",
            " 0.07349228 0.02346516 0.05611277 0.00558204 0.01534441 0.\n",
            " 0.         0.         0.         0.         0.         0.\n",
            " 0.04214519 0.         0.05040415 0.0273246  0.08976565 0.0119692\n",
            " 0.         0.         0.01742771 0.02129211 0.01353948 0.\n",
            " 0.         0.06715567 0.00448242 0.01860215 0.         0.02279063\n",
            " 0.01119713 0.01071347 0.04849224 0.08809366 0.         0.\n",
            " 0.         0.         0.05127869 0.02535334 0.         0.\n",
            " 0.02670175 0.         0.         0.         0.         0.\n",
            " 0.01097359 0.         0.         0.06016783 0.         0.\n",
            " 0.         0.0055897  0.03148499 0.09064506 0.         0.\n",
            " 0.         0.06450589 0.01306597 0.03049593 0.         0.06654382\n",
            " 0.15270014 0.         0.03336981 0.02567368 0.         0.06391282\n",
            " 0.01370817 0.         0.         0.05588094 0.         0.\n",
            " 0.06089605 0.         0.         0.04746288 0.         0.03668437\n",
            " 0.04428431 0.         0.06148745 0.         0.06441043 0.06981199\n",
            " 0.00454647 0.         0.         0.         0.06602619 0.\n",
            " 0.00564164 0.         0.04201122 0.         0.         0.\n",
            " 0.         0.0767087  0.         0.         0.         0.00629759\n",
            " 0.03706709 0.         0.05118788 0.01151486 0.         0.\n",
            " 0.01344658 0.         0.0078168  0.01545094 0.         0.\n",
            " 0.03663642 0.03616635 0.09898866 0.         0.06262913 0.\n",
            " 0.         0.00588715 0.         0.08055532 0.05159317 0.0072606\n",
            " 0.13236782 0.0354239  0.03654651 0.0111119  0.07880007 0.\n",
            " 0.         0.02732094]\n"
          ]
        }
      ]
    },
    {
      "cell_type": "code",
      "source": [],
      "metadata": {
        "id": "z1uMdnIJZSWR"
      },
      "execution_count": null,
      "outputs": []
    }
  ]
}
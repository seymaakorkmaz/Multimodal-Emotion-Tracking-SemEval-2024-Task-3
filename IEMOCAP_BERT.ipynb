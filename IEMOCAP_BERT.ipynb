{
  "nbformat": 4,
  "nbformat_minor": 0,
  "metadata": {
    "colab": {
      "provenance": [],
      "gpuType": "T4"
    },
    "kernelspec": {
      "name": "python3",
      "display_name": "Python 3"
    },
    "language_info": {
      "name": "python"
    },
    "accelerator": "GPU",
    "widgets": {
      "application/vnd.jupyter.widget-state+json": {
        "18aef0413329483aa23853b675829c84": {
          "model_module": "@jupyter-widgets/controls",
          "model_name": "HBoxModel",
          "model_module_version": "1.5.0",
          "state": {
            "_dom_classes": [],
            "_model_module": "@jupyter-widgets/controls",
            "_model_module_version": "1.5.0",
            "_model_name": "HBoxModel",
            "_view_count": null,
            "_view_module": "@jupyter-widgets/controls",
            "_view_module_version": "1.5.0",
            "_view_name": "HBoxView",
            "box_style": "",
            "children": [
              "IPY_MODEL_d53745edce3d4ae8a38b9ecf5b2316e3",
              "IPY_MODEL_e7908b4b48534c0688f891d8a3834679",
              "IPY_MODEL_f6efd24866b741389a3ed0a4b868975f"
            ],
            "layout": "IPY_MODEL_4f8f92b5fbc1483196d47824d85097cd"
          }
        },
        "d53745edce3d4ae8a38b9ecf5b2316e3": {
          "model_module": "@jupyter-widgets/controls",
          "model_name": "HTMLModel",
          "model_module_version": "1.5.0",
          "state": {
            "_dom_classes": [],
            "_model_module": "@jupyter-widgets/controls",
            "_model_module_version": "1.5.0",
            "_model_name": "HTMLModel",
            "_view_count": null,
            "_view_module": "@jupyter-widgets/controls",
            "_view_module_version": "1.5.0",
            "_view_name": "HTMLView",
            "description": "",
            "description_tooltip": null,
            "layout": "IPY_MODEL_bae4f3f44bc14d12943000d1a60e2645",
            "placeholder": "​",
            "style": "IPY_MODEL_536c68705a60435dbaad8c0741d9bc1e",
            "value": "tokenizer_config.json: 100%"
          }
        },
        "e7908b4b48534c0688f891d8a3834679": {
          "model_module": "@jupyter-widgets/controls",
          "model_name": "FloatProgressModel",
          "model_module_version": "1.5.0",
          "state": {
            "_dom_classes": [],
            "_model_module": "@jupyter-widgets/controls",
            "_model_module_version": "1.5.0",
            "_model_name": "FloatProgressModel",
            "_view_count": null,
            "_view_module": "@jupyter-widgets/controls",
            "_view_module_version": "1.5.0",
            "_view_name": "ProgressView",
            "bar_style": "success",
            "description": "",
            "description_tooltip": null,
            "layout": "IPY_MODEL_844e3ba70ae648379421f0af212988a6",
            "max": 48,
            "min": 0,
            "orientation": "horizontal",
            "style": "IPY_MODEL_0a965b894f8a430ba3a12437b259b917",
            "value": 48
          }
        },
        "f6efd24866b741389a3ed0a4b868975f": {
          "model_module": "@jupyter-widgets/controls",
          "model_name": "HTMLModel",
          "model_module_version": "1.5.0",
          "state": {
            "_dom_classes": [],
            "_model_module": "@jupyter-widgets/controls",
            "_model_module_version": "1.5.0",
            "_model_name": "HTMLModel",
            "_view_count": null,
            "_view_module": "@jupyter-widgets/controls",
            "_view_module_version": "1.5.0",
            "_view_name": "HTMLView",
            "description": "",
            "description_tooltip": null,
            "layout": "IPY_MODEL_37c5037e297c478b8022d3e478437c0e",
            "placeholder": "​",
            "style": "IPY_MODEL_c9dd9d534962442cab59f92f95a1a4cf",
            "value": " 48.0/48.0 [00:00&lt;00:00, 2.05kB/s]"
          }
        },
        "4f8f92b5fbc1483196d47824d85097cd": {
          "model_module": "@jupyter-widgets/base",
          "model_name": "LayoutModel",
          "model_module_version": "1.2.0",
          "state": {
            "_model_module": "@jupyter-widgets/base",
            "_model_module_version": "1.2.0",
            "_model_name": "LayoutModel",
            "_view_count": null,
            "_view_module": "@jupyter-widgets/base",
            "_view_module_version": "1.2.0",
            "_view_name": "LayoutView",
            "align_content": null,
            "align_items": null,
            "align_self": null,
            "border": null,
            "bottom": null,
            "display": null,
            "flex": null,
            "flex_flow": null,
            "grid_area": null,
            "grid_auto_columns": null,
            "grid_auto_flow": null,
            "grid_auto_rows": null,
            "grid_column": null,
            "grid_gap": null,
            "grid_row": null,
            "grid_template_areas": null,
            "grid_template_columns": null,
            "grid_template_rows": null,
            "height": null,
            "justify_content": null,
            "justify_items": null,
            "left": null,
            "margin": null,
            "max_height": null,
            "max_width": null,
            "min_height": null,
            "min_width": null,
            "object_fit": null,
            "object_position": null,
            "order": null,
            "overflow": null,
            "overflow_x": null,
            "overflow_y": null,
            "padding": null,
            "right": null,
            "top": null,
            "visibility": null,
            "width": null
          }
        },
        "bae4f3f44bc14d12943000d1a60e2645": {
          "model_module": "@jupyter-widgets/base",
          "model_name": "LayoutModel",
          "model_module_version": "1.2.0",
          "state": {
            "_model_module": "@jupyter-widgets/base",
            "_model_module_version": "1.2.0",
            "_model_name": "LayoutModel",
            "_view_count": null,
            "_view_module": "@jupyter-widgets/base",
            "_view_module_version": "1.2.0",
            "_view_name": "LayoutView",
            "align_content": null,
            "align_items": null,
            "align_self": null,
            "border": null,
            "bottom": null,
            "display": null,
            "flex": null,
            "flex_flow": null,
            "grid_area": null,
            "grid_auto_columns": null,
            "grid_auto_flow": null,
            "grid_auto_rows": null,
            "grid_column": null,
            "grid_gap": null,
            "grid_row": null,
            "grid_template_areas": null,
            "grid_template_columns": null,
            "grid_template_rows": null,
            "height": null,
            "justify_content": null,
            "justify_items": null,
            "left": null,
            "margin": null,
            "max_height": null,
            "max_width": null,
            "min_height": null,
            "min_width": null,
            "object_fit": null,
            "object_position": null,
            "order": null,
            "overflow": null,
            "overflow_x": null,
            "overflow_y": null,
            "padding": null,
            "right": null,
            "top": null,
            "visibility": null,
            "width": null
          }
        },
        "536c68705a60435dbaad8c0741d9bc1e": {
          "model_module": "@jupyter-widgets/controls",
          "model_name": "DescriptionStyleModel",
          "model_module_version": "1.5.0",
          "state": {
            "_model_module": "@jupyter-widgets/controls",
            "_model_module_version": "1.5.0",
            "_model_name": "DescriptionStyleModel",
            "_view_count": null,
            "_view_module": "@jupyter-widgets/base",
            "_view_module_version": "1.2.0",
            "_view_name": "StyleView",
            "description_width": ""
          }
        },
        "844e3ba70ae648379421f0af212988a6": {
          "model_module": "@jupyter-widgets/base",
          "model_name": "LayoutModel",
          "model_module_version": "1.2.0",
          "state": {
            "_model_module": "@jupyter-widgets/base",
            "_model_module_version": "1.2.0",
            "_model_name": "LayoutModel",
            "_view_count": null,
            "_view_module": "@jupyter-widgets/base",
            "_view_module_version": "1.2.0",
            "_view_name": "LayoutView",
            "align_content": null,
            "align_items": null,
            "align_self": null,
            "border": null,
            "bottom": null,
            "display": null,
            "flex": null,
            "flex_flow": null,
            "grid_area": null,
            "grid_auto_columns": null,
            "grid_auto_flow": null,
            "grid_auto_rows": null,
            "grid_column": null,
            "grid_gap": null,
            "grid_row": null,
            "grid_template_areas": null,
            "grid_template_columns": null,
            "grid_template_rows": null,
            "height": null,
            "justify_content": null,
            "justify_items": null,
            "left": null,
            "margin": null,
            "max_height": null,
            "max_width": null,
            "min_height": null,
            "min_width": null,
            "object_fit": null,
            "object_position": null,
            "order": null,
            "overflow": null,
            "overflow_x": null,
            "overflow_y": null,
            "padding": null,
            "right": null,
            "top": null,
            "visibility": null,
            "width": null
          }
        },
        "0a965b894f8a430ba3a12437b259b917": {
          "model_module": "@jupyter-widgets/controls",
          "model_name": "ProgressStyleModel",
          "model_module_version": "1.5.0",
          "state": {
            "_model_module": "@jupyter-widgets/controls",
            "_model_module_version": "1.5.0",
            "_model_name": "ProgressStyleModel",
            "_view_count": null,
            "_view_module": "@jupyter-widgets/base",
            "_view_module_version": "1.2.0",
            "_view_name": "StyleView",
            "bar_color": null,
            "description_width": ""
          }
        },
        "37c5037e297c478b8022d3e478437c0e": {
          "model_module": "@jupyter-widgets/base",
          "model_name": "LayoutModel",
          "model_module_version": "1.2.0",
          "state": {
            "_model_module": "@jupyter-widgets/base",
            "_model_module_version": "1.2.0",
            "_model_name": "LayoutModel",
            "_view_count": null,
            "_view_module": "@jupyter-widgets/base",
            "_view_module_version": "1.2.0",
            "_view_name": "LayoutView",
            "align_content": null,
            "align_items": null,
            "align_self": null,
            "border": null,
            "bottom": null,
            "display": null,
            "flex": null,
            "flex_flow": null,
            "grid_area": null,
            "grid_auto_columns": null,
            "grid_auto_flow": null,
            "grid_auto_rows": null,
            "grid_column": null,
            "grid_gap": null,
            "grid_row": null,
            "grid_template_areas": null,
            "grid_template_columns": null,
            "grid_template_rows": null,
            "height": null,
            "justify_content": null,
            "justify_items": null,
            "left": null,
            "margin": null,
            "max_height": null,
            "max_width": null,
            "min_height": null,
            "min_width": null,
            "object_fit": null,
            "object_position": null,
            "order": null,
            "overflow": null,
            "overflow_x": null,
            "overflow_y": null,
            "padding": null,
            "right": null,
            "top": null,
            "visibility": null,
            "width": null
          }
        },
        "c9dd9d534962442cab59f92f95a1a4cf": {
          "model_module": "@jupyter-widgets/controls",
          "model_name": "DescriptionStyleModel",
          "model_module_version": "1.5.0",
          "state": {
            "_model_module": "@jupyter-widgets/controls",
            "_model_module_version": "1.5.0",
            "_model_name": "DescriptionStyleModel",
            "_view_count": null,
            "_view_module": "@jupyter-widgets/base",
            "_view_module_version": "1.2.0",
            "_view_name": "StyleView",
            "description_width": ""
          }
        },
        "ef2cf48c73924d8ba5b3ea1fa6224851": {
          "model_module": "@jupyter-widgets/controls",
          "model_name": "HBoxModel",
          "model_module_version": "1.5.0",
          "state": {
            "_dom_classes": [],
            "_model_module": "@jupyter-widgets/controls",
            "_model_module_version": "1.5.0",
            "_model_name": "HBoxModel",
            "_view_count": null,
            "_view_module": "@jupyter-widgets/controls",
            "_view_module_version": "1.5.0",
            "_view_name": "HBoxView",
            "box_style": "",
            "children": [
              "IPY_MODEL_f8aecc6eda724fc1808a43d8b5128a50",
              "IPY_MODEL_1aca3e8e860a4bdb969057e25852687d",
              "IPY_MODEL_f67a07bb925544d1a8ece914db5bbd91"
            ],
            "layout": "IPY_MODEL_eb5c67c402fd4407831322c395ca07ad"
          }
        },
        "f8aecc6eda724fc1808a43d8b5128a50": {
          "model_module": "@jupyter-widgets/controls",
          "model_name": "HTMLModel",
          "model_module_version": "1.5.0",
          "state": {
            "_dom_classes": [],
            "_model_module": "@jupyter-widgets/controls",
            "_model_module_version": "1.5.0",
            "_model_name": "HTMLModel",
            "_view_count": null,
            "_view_module": "@jupyter-widgets/controls",
            "_view_module_version": "1.5.0",
            "_view_name": "HTMLView",
            "description": "",
            "description_tooltip": null,
            "layout": "IPY_MODEL_d2149d1981514eae8fcc19fbc5c29894",
            "placeholder": "​",
            "style": "IPY_MODEL_32a9ec17cb2a40f1b9371b3209cbf4d7",
            "value": "vocab.txt: 100%"
          }
        },
        "1aca3e8e860a4bdb969057e25852687d": {
          "model_module": "@jupyter-widgets/controls",
          "model_name": "FloatProgressModel",
          "model_module_version": "1.5.0",
          "state": {
            "_dom_classes": [],
            "_model_module": "@jupyter-widgets/controls",
            "_model_module_version": "1.5.0",
            "_model_name": "FloatProgressModel",
            "_view_count": null,
            "_view_module": "@jupyter-widgets/controls",
            "_view_module_version": "1.5.0",
            "_view_name": "ProgressView",
            "bar_style": "success",
            "description": "",
            "description_tooltip": null,
            "layout": "IPY_MODEL_5b311ada8dfa44de850be1f80ccb5f2f",
            "max": 231508,
            "min": 0,
            "orientation": "horizontal",
            "style": "IPY_MODEL_110d4ed5e9624b7a86fcba14766ad8d2",
            "value": 231508
          }
        },
        "f67a07bb925544d1a8ece914db5bbd91": {
          "model_module": "@jupyter-widgets/controls",
          "model_name": "HTMLModel",
          "model_module_version": "1.5.0",
          "state": {
            "_dom_classes": [],
            "_model_module": "@jupyter-widgets/controls",
            "_model_module_version": "1.5.0",
            "_model_name": "HTMLModel",
            "_view_count": null,
            "_view_module": "@jupyter-widgets/controls",
            "_view_module_version": "1.5.0",
            "_view_name": "HTMLView",
            "description": "",
            "description_tooltip": null,
            "layout": "IPY_MODEL_5915d125519c43c5ab4a03913e32f0f5",
            "placeholder": "​",
            "style": "IPY_MODEL_b8c19ffa2db241b9af48660e1be73fab",
            "value": " 232k/232k [00:00&lt;00:00, 2.67MB/s]"
          }
        },
        "eb5c67c402fd4407831322c395ca07ad": {
          "model_module": "@jupyter-widgets/base",
          "model_name": "LayoutModel",
          "model_module_version": "1.2.0",
          "state": {
            "_model_module": "@jupyter-widgets/base",
            "_model_module_version": "1.2.0",
            "_model_name": "LayoutModel",
            "_view_count": null,
            "_view_module": "@jupyter-widgets/base",
            "_view_module_version": "1.2.0",
            "_view_name": "LayoutView",
            "align_content": null,
            "align_items": null,
            "align_self": null,
            "border": null,
            "bottom": null,
            "display": null,
            "flex": null,
            "flex_flow": null,
            "grid_area": null,
            "grid_auto_columns": null,
            "grid_auto_flow": null,
            "grid_auto_rows": null,
            "grid_column": null,
            "grid_gap": null,
            "grid_row": null,
            "grid_template_areas": null,
            "grid_template_columns": null,
            "grid_template_rows": null,
            "height": null,
            "justify_content": null,
            "justify_items": null,
            "left": null,
            "margin": null,
            "max_height": null,
            "max_width": null,
            "min_height": null,
            "min_width": null,
            "object_fit": null,
            "object_position": null,
            "order": null,
            "overflow": null,
            "overflow_x": null,
            "overflow_y": null,
            "padding": null,
            "right": null,
            "top": null,
            "visibility": null,
            "width": null
          }
        },
        "d2149d1981514eae8fcc19fbc5c29894": {
          "model_module": "@jupyter-widgets/base",
          "model_name": "LayoutModel",
          "model_module_version": "1.2.0",
          "state": {
            "_model_module": "@jupyter-widgets/base",
            "_model_module_version": "1.2.0",
            "_model_name": "LayoutModel",
            "_view_count": null,
            "_view_module": "@jupyter-widgets/base",
            "_view_module_version": "1.2.0",
            "_view_name": "LayoutView",
            "align_content": null,
            "align_items": null,
            "align_self": null,
            "border": null,
            "bottom": null,
            "display": null,
            "flex": null,
            "flex_flow": null,
            "grid_area": null,
            "grid_auto_columns": null,
            "grid_auto_flow": null,
            "grid_auto_rows": null,
            "grid_column": null,
            "grid_gap": null,
            "grid_row": null,
            "grid_template_areas": null,
            "grid_template_columns": null,
            "grid_template_rows": null,
            "height": null,
            "justify_content": null,
            "justify_items": null,
            "left": null,
            "margin": null,
            "max_height": null,
            "max_width": null,
            "min_height": null,
            "min_width": null,
            "object_fit": null,
            "object_position": null,
            "order": null,
            "overflow": null,
            "overflow_x": null,
            "overflow_y": null,
            "padding": null,
            "right": null,
            "top": null,
            "visibility": null,
            "width": null
          }
        },
        "32a9ec17cb2a40f1b9371b3209cbf4d7": {
          "model_module": "@jupyter-widgets/controls",
          "model_name": "DescriptionStyleModel",
          "model_module_version": "1.5.0",
          "state": {
            "_model_module": "@jupyter-widgets/controls",
            "_model_module_version": "1.5.0",
            "_model_name": "DescriptionStyleModel",
            "_view_count": null,
            "_view_module": "@jupyter-widgets/base",
            "_view_module_version": "1.2.0",
            "_view_name": "StyleView",
            "description_width": ""
          }
        },
        "5b311ada8dfa44de850be1f80ccb5f2f": {
          "model_module": "@jupyter-widgets/base",
          "model_name": "LayoutModel",
          "model_module_version": "1.2.0",
          "state": {
            "_model_module": "@jupyter-widgets/base",
            "_model_module_version": "1.2.0",
            "_model_name": "LayoutModel",
            "_view_count": null,
            "_view_module": "@jupyter-widgets/base",
            "_view_module_version": "1.2.0",
            "_view_name": "LayoutView",
            "align_content": null,
            "align_items": null,
            "align_self": null,
            "border": null,
            "bottom": null,
            "display": null,
            "flex": null,
            "flex_flow": null,
            "grid_area": null,
            "grid_auto_columns": null,
            "grid_auto_flow": null,
            "grid_auto_rows": null,
            "grid_column": null,
            "grid_gap": null,
            "grid_row": null,
            "grid_template_areas": null,
            "grid_template_columns": null,
            "grid_template_rows": null,
            "height": null,
            "justify_content": null,
            "justify_items": null,
            "left": null,
            "margin": null,
            "max_height": null,
            "max_width": null,
            "min_height": null,
            "min_width": null,
            "object_fit": null,
            "object_position": null,
            "order": null,
            "overflow": null,
            "overflow_x": null,
            "overflow_y": null,
            "padding": null,
            "right": null,
            "top": null,
            "visibility": null,
            "width": null
          }
        },
        "110d4ed5e9624b7a86fcba14766ad8d2": {
          "model_module": "@jupyter-widgets/controls",
          "model_name": "ProgressStyleModel",
          "model_module_version": "1.5.0",
          "state": {
            "_model_module": "@jupyter-widgets/controls",
            "_model_module_version": "1.5.0",
            "_model_name": "ProgressStyleModel",
            "_view_count": null,
            "_view_module": "@jupyter-widgets/base",
            "_view_module_version": "1.2.0",
            "_view_name": "StyleView",
            "bar_color": null,
            "description_width": ""
          }
        },
        "5915d125519c43c5ab4a03913e32f0f5": {
          "model_module": "@jupyter-widgets/base",
          "model_name": "LayoutModel",
          "model_module_version": "1.2.0",
          "state": {
            "_model_module": "@jupyter-widgets/base",
            "_model_module_version": "1.2.0",
            "_model_name": "LayoutModel",
            "_view_count": null,
            "_view_module": "@jupyter-widgets/base",
            "_view_module_version": "1.2.0",
            "_view_name": "LayoutView",
            "align_content": null,
            "align_items": null,
            "align_self": null,
            "border": null,
            "bottom": null,
            "display": null,
            "flex": null,
            "flex_flow": null,
            "grid_area": null,
            "grid_auto_columns": null,
            "grid_auto_flow": null,
            "grid_auto_rows": null,
            "grid_column": null,
            "grid_gap": null,
            "grid_row": null,
            "grid_template_areas": null,
            "grid_template_columns": null,
            "grid_template_rows": null,
            "height": null,
            "justify_content": null,
            "justify_items": null,
            "left": null,
            "margin": null,
            "max_height": null,
            "max_width": null,
            "min_height": null,
            "min_width": null,
            "object_fit": null,
            "object_position": null,
            "order": null,
            "overflow": null,
            "overflow_x": null,
            "overflow_y": null,
            "padding": null,
            "right": null,
            "top": null,
            "visibility": null,
            "width": null
          }
        },
        "b8c19ffa2db241b9af48660e1be73fab": {
          "model_module": "@jupyter-widgets/controls",
          "model_name": "DescriptionStyleModel",
          "model_module_version": "1.5.0",
          "state": {
            "_model_module": "@jupyter-widgets/controls",
            "_model_module_version": "1.5.0",
            "_model_name": "DescriptionStyleModel",
            "_view_count": null,
            "_view_module": "@jupyter-widgets/base",
            "_view_module_version": "1.2.0",
            "_view_name": "StyleView",
            "description_width": ""
          }
        },
        "aeebf792c5af457ab08f8d891feeb645": {
          "model_module": "@jupyter-widgets/controls",
          "model_name": "HBoxModel",
          "model_module_version": "1.5.0",
          "state": {
            "_dom_classes": [],
            "_model_module": "@jupyter-widgets/controls",
            "_model_module_version": "1.5.0",
            "_model_name": "HBoxModel",
            "_view_count": null,
            "_view_module": "@jupyter-widgets/controls",
            "_view_module_version": "1.5.0",
            "_view_name": "HBoxView",
            "box_style": "",
            "children": [
              "IPY_MODEL_5131bf622db84beaa27e03627132ce30",
              "IPY_MODEL_ca9ece640d1c413b87f6d531eaf11b76",
              "IPY_MODEL_e18398841f3b4f36b978a850a77aacbb"
            ],
            "layout": "IPY_MODEL_68a4c685d8194858b80ce773b0eb89a0"
          }
        },
        "5131bf622db84beaa27e03627132ce30": {
          "model_module": "@jupyter-widgets/controls",
          "model_name": "HTMLModel",
          "model_module_version": "1.5.0",
          "state": {
            "_dom_classes": [],
            "_model_module": "@jupyter-widgets/controls",
            "_model_module_version": "1.5.0",
            "_model_name": "HTMLModel",
            "_view_count": null,
            "_view_module": "@jupyter-widgets/controls",
            "_view_module_version": "1.5.0",
            "_view_name": "HTMLView",
            "description": "",
            "description_tooltip": null,
            "layout": "IPY_MODEL_1885c350539349e3b95a83112302db48",
            "placeholder": "​",
            "style": "IPY_MODEL_a4870dd0e44b4214a24c995ece23108f",
            "value": "tokenizer.json: 100%"
          }
        },
        "ca9ece640d1c413b87f6d531eaf11b76": {
          "model_module": "@jupyter-widgets/controls",
          "model_name": "FloatProgressModel",
          "model_module_version": "1.5.0",
          "state": {
            "_dom_classes": [],
            "_model_module": "@jupyter-widgets/controls",
            "_model_module_version": "1.5.0",
            "_model_name": "FloatProgressModel",
            "_view_count": null,
            "_view_module": "@jupyter-widgets/controls",
            "_view_module_version": "1.5.0",
            "_view_name": "ProgressView",
            "bar_style": "success",
            "description": "",
            "description_tooltip": null,
            "layout": "IPY_MODEL_701400913209425eab814bf3c49aee24",
            "max": 466062,
            "min": 0,
            "orientation": "horizontal",
            "style": "IPY_MODEL_230be268e89b49b2a2b3036fd6dfe93b",
            "value": 466062
          }
        },
        "e18398841f3b4f36b978a850a77aacbb": {
          "model_module": "@jupyter-widgets/controls",
          "model_name": "HTMLModel",
          "model_module_version": "1.5.0",
          "state": {
            "_dom_classes": [],
            "_model_module": "@jupyter-widgets/controls",
            "_model_module_version": "1.5.0",
            "_model_name": "HTMLModel",
            "_view_count": null,
            "_view_module": "@jupyter-widgets/controls",
            "_view_module_version": "1.5.0",
            "_view_name": "HTMLView",
            "description": "",
            "description_tooltip": null,
            "layout": "IPY_MODEL_716e4420cb5d46c2b7289e08f2296e93",
            "placeholder": "​",
            "style": "IPY_MODEL_d8d0f06684e2427cb28e6b56cd84630b",
            "value": " 466k/466k [00:00&lt;00:00, 7.22MB/s]"
          }
        },
        "68a4c685d8194858b80ce773b0eb89a0": {
          "model_module": "@jupyter-widgets/base",
          "model_name": "LayoutModel",
          "model_module_version": "1.2.0",
          "state": {
            "_model_module": "@jupyter-widgets/base",
            "_model_module_version": "1.2.0",
            "_model_name": "LayoutModel",
            "_view_count": null,
            "_view_module": "@jupyter-widgets/base",
            "_view_module_version": "1.2.0",
            "_view_name": "LayoutView",
            "align_content": null,
            "align_items": null,
            "align_self": null,
            "border": null,
            "bottom": null,
            "display": null,
            "flex": null,
            "flex_flow": null,
            "grid_area": null,
            "grid_auto_columns": null,
            "grid_auto_flow": null,
            "grid_auto_rows": null,
            "grid_column": null,
            "grid_gap": null,
            "grid_row": null,
            "grid_template_areas": null,
            "grid_template_columns": null,
            "grid_template_rows": null,
            "height": null,
            "justify_content": null,
            "justify_items": null,
            "left": null,
            "margin": null,
            "max_height": null,
            "max_width": null,
            "min_height": null,
            "min_width": null,
            "object_fit": null,
            "object_position": null,
            "order": null,
            "overflow": null,
            "overflow_x": null,
            "overflow_y": null,
            "padding": null,
            "right": null,
            "top": null,
            "visibility": null,
            "width": null
          }
        },
        "1885c350539349e3b95a83112302db48": {
          "model_module": "@jupyter-widgets/base",
          "model_name": "LayoutModel",
          "model_module_version": "1.2.0",
          "state": {
            "_model_module": "@jupyter-widgets/base",
            "_model_module_version": "1.2.0",
            "_model_name": "LayoutModel",
            "_view_count": null,
            "_view_module": "@jupyter-widgets/base",
            "_view_module_version": "1.2.0",
            "_view_name": "LayoutView",
            "align_content": null,
            "align_items": null,
            "align_self": null,
            "border": null,
            "bottom": null,
            "display": null,
            "flex": null,
            "flex_flow": null,
            "grid_area": null,
            "grid_auto_columns": null,
            "grid_auto_flow": null,
            "grid_auto_rows": null,
            "grid_column": null,
            "grid_gap": null,
            "grid_row": null,
            "grid_template_areas": null,
            "grid_template_columns": null,
            "grid_template_rows": null,
            "height": null,
            "justify_content": null,
            "justify_items": null,
            "left": null,
            "margin": null,
            "max_height": null,
            "max_width": null,
            "min_height": null,
            "min_width": null,
            "object_fit": null,
            "object_position": null,
            "order": null,
            "overflow": null,
            "overflow_x": null,
            "overflow_y": null,
            "padding": null,
            "right": null,
            "top": null,
            "visibility": null,
            "width": null
          }
        },
        "a4870dd0e44b4214a24c995ece23108f": {
          "model_module": "@jupyter-widgets/controls",
          "model_name": "DescriptionStyleModel",
          "model_module_version": "1.5.0",
          "state": {
            "_model_module": "@jupyter-widgets/controls",
            "_model_module_version": "1.5.0",
            "_model_name": "DescriptionStyleModel",
            "_view_count": null,
            "_view_module": "@jupyter-widgets/base",
            "_view_module_version": "1.2.0",
            "_view_name": "StyleView",
            "description_width": ""
          }
        },
        "701400913209425eab814bf3c49aee24": {
          "model_module": "@jupyter-widgets/base",
          "model_name": "LayoutModel",
          "model_module_version": "1.2.0",
          "state": {
            "_model_module": "@jupyter-widgets/base",
            "_model_module_version": "1.2.0",
            "_model_name": "LayoutModel",
            "_view_count": null,
            "_view_module": "@jupyter-widgets/base",
            "_view_module_version": "1.2.0",
            "_view_name": "LayoutView",
            "align_content": null,
            "align_items": null,
            "align_self": null,
            "border": null,
            "bottom": null,
            "display": null,
            "flex": null,
            "flex_flow": null,
            "grid_area": null,
            "grid_auto_columns": null,
            "grid_auto_flow": null,
            "grid_auto_rows": null,
            "grid_column": null,
            "grid_gap": null,
            "grid_row": null,
            "grid_template_areas": null,
            "grid_template_columns": null,
            "grid_template_rows": null,
            "height": null,
            "justify_content": null,
            "justify_items": null,
            "left": null,
            "margin": null,
            "max_height": null,
            "max_width": null,
            "min_height": null,
            "min_width": null,
            "object_fit": null,
            "object_position": null,
            "order": null,
            "overflow": null,
            "overflow_x": null,
            "overflow_y": null,
            "padding": null,
            "right": null,
            "top": null,
            "visibility": null,
            "width": null
          }
        },
        "230be268e89b49b2a2b3036fd6dfe93b": {
          "model_module": "@jupyter-widgets/controls",
          "model_name": "ProgressStyleModel",
          "model_module_version": "1.5.0",
          "state": {
            "_model_module": "@jupyter-widgets/controls",
            "_model_module_version": "1.5.0",
            "_model_name": "ProgressStyleModel",
            "_view_count": null,
            "_view_module": "@jupyter-widgets/base",
            "_view_module_version": "1.2.0",
            "_view_name": "StyleView",
            "bar_color": null,
            "description_width": ""
          }
        },
        "716e4420cb5d46c2b7289e08f2296e93": {
          "model_module": "@jupyter-widgets/base",
          "model_name": "LayoutModel",
          "model_module_version": "1.2.0",
          "state": {
            "_model_module": "@jupyter-widgets/base",
            "_model_module_version": "1.2.0",
            "_model_name": "LayoutModel",
            "_view_count": null,
            "_view_module": "@jupyter-widgets/base",
            "_view_module_version": "1.2.0",
            "_view_name": "LayoutView",
            "align_content": null,
            "align_items": null,
            "align_self": null,
            "border": null,
            "bottom": null,
            "display": null,
            "flex": null,
            "flex_flow": null,
            "grid_area": null,
            "grid_auto_columns": null,
            "grid_auto_flow": null,
            "grid_auto_rows": null,
            "grid_column": null,
            "grid_gap": null,
            "grid_row": null,
            "grid_template_areas": null,
            "grid_template_columns": null,
            "grid_template_rows": null,
            "height": null,
            "justify_content": null,
            "justify_items": null,
            "left": null,
            "margin": null,
            "max_height": null,
            "max_width": null,
            "min_height": null,
            "min_width": null,
            "object_fit": null,
            "object_position": null,
            "order": null,
            "overflow": null,
            "overflow_x": null,
            "overflow_y": null,
            "padding": null,
            "right": null,
            "top": null,
            "visibility": null,
            "width": null
          }
        },
        "d8d0f06684e2427cb28e6b56cd84630b": {
          "model_module": "@jupyter-widgets/controls",
          "model_name": "DescriptionStyleModel",
          "model_module_version": "1.5.0",
          "state": {
            "_model_module": "@jupyter-widgets/controls",
            "_model_module_version": "1.5.0",
            "_model_name": "DescriptionStyleModel",
            "_view_count": null,
            "_view_module": "@jupyter-widgets/base",
            "_view_module_version": "1.2.0",
            "_view_name": "StyleView",
            "description_width": ""
          }
        },
        "35989d6f4a73406599740705d938a80d": {
          "model_module": "@jupyter-widgets/controls",
          "model_name": "HBoxModel",
          "model_module_version": "1.5.0",
          "state": {
            "_dom_classes": [],
            "_model_module": "@jupyter-widgets/controls",
            "_model_module_version": "1.5.0",
            "_model_name": "HBoxModel",
            "_view_count": null,
            "_view_module": "@jupyter-widgets/controls",
            "_view_module_version": "1.5.0",
            "_view_name": "HBoxView",
            "box_style": "",
            "children": [
              "IPY_MODEL_76eae2e968eb46dab115d68c9755aecd",
              "IPY_MODEL_21bb83d55c4b45658d0a2f6d7b06ffd0",
              "IPY_MODEL_7dfaa5c9c5724dd391d27d9882cd1b7a"
            ],
            "layout": "IPY_MODEL_95fd834d5eec4046b35d3b96bc320a78"
          }
        },
        "76eae2e968eb46dab115d68c9755aecd": {
          "model_module": "@jupyter-widgets/controls",
          "model_name": "HTMLModel",
          "model_module_version": "1.5.0",
          "state": {
            "_dom_classes": [],
            "_model_module": "@jupyter-widgets/controls",
            "_model_module_version": "1.5.0",
            "_model_name": "HTMLModel",
            "_view_count": null,
            "_view_module": "@jupyter-widgets/controls",
            "_view_module_version": "1.5.0",
            "_view_name": "HTMLView",
            "description": "",
            "description_tooltip": null,
            "layout": "IPY_MODEL_bc0efe01a32843a48c807cce9e26fc90",
            "placeholder": "​",
            "style": "IPY_MODEL_dcd33077623640cdbc27f3fe8230519f",
            "value": "config.json: 100%"
          }
        },
        "21bb83d55c4b45658d0a2f6d7b06ffd0": {
          "model_module": "@jupyter-widgets/controls",
          "model_name": "FloatProgressModel",
          "model_module_version": "1.5.0",
          "state": {
            "_dom_classes": [],
            "_model_module": "@jupyter-widgets/controls",
            "_model_module_version": "1.5.0",
            "_model_name": "FloatProgressModel",
            "_view_count": null,
            "_view_module": "@jupyter-widgets/controls",
            "_view_module_version": "1.5.0",
            "_view_name": "ProgressView",
            "bar_style": "success",
            "description": "",
            "description_tooltip": null,
            "layout": "IPY_MODEL_9df2f9dc1b55431e88f06c2086ad79c6",
            "max": 570,
            "min": 0,
            "orientation": "horizontal",
            "style": "IPY_MODEL_8e66d0cfe03245b6a8ba498e0279be44",
            "value": 570
          }
        },
        "7dfaa5c9c5724dd391d27d9882cd1b7a": {
          "model_module": "@jupyter-widgets/controls",
          "model_name": "HTMLModel",
          "model_module_version": "1.5.0",
          "state": {
            "_dom_classes": [],
            "_model_module": "@jupyter-widgets/controls",
            "_model_module_version": "1.5.0",
            "_model_name": "HTMLModel",
            "_view_count": null,
            "_view_module": "@jupyter-widgets/controls",
            "_view_module_version": "1.5.0",
            "_view_name": "HTMLView",
            "description": "",
            "description_tooltip": null,
            "layout": "IPY_MODEL_05faca610d264aac875e81d17ca57331",
            "placeholder": "​",
            "style": "IPY_MODEL_5bba9061ce664e87ac3b228391a62c3b",
            "value": " 570/570 [00:00&lt;00:00, 36.1kB/s]"
          }
        },
        "95fd834d5eec4046b35d3b96bc320a78": {
          "model_module": "@jupyter-widgets/base",
          "model_name": "LayoutModel",
          "model_module_version": "1.2.0",
          "state": {
            "_model_module": "@jupyter-widgets/base",
            "_model_module_version": "1.2.0",
            "_model_name": "LayoutModel",
            "_view_count": null,
            "_view_module": "@jupyter-widgets/base",
            "_view_module_version": "1.2.0",
            "_view_name": "LayoutView",
            "align_content": null,
            "align_items": null,
            "align_self": null,
            "border": null,
            "bottom": null,
            "display": null,
            "flex": null,
            "flex_flow": null,
            "grid_area": null,
            "grid_auto_columns": null,
            "grid_auto_flow": null,
            "grid_auto_rows": null,
            "grid_column": null,
            "grid_gap": null,
            "grid_row": null,
            "grid_template_areas": null,
            "grid_template_columns": null,
            "grid_template_rows": null,
            "height": null,
            "justify_content": null,
            "justify_items": null,
            "left": null,
            "margin": null,
            "max_height": null,
            "max_width": null,
            "min_height": null,
            "min_width": null,
            "object_fit": null,
            "object_position": null,
            "order": null,
            "overflow": null,
            "overflow_x": null,
            "overflow_y": null,
            "padding": null,
            "right": null,
            "top": null,
            "visibility": null,
            "width": null
          }
        },
        "bc0efe01a32843a48c807cce9e26fc90": {
          "model_module": "@jupyter-widgets/base",
          "model_name": "LayoutModel",
          "model_module_version": "1.2.0",
          "state": {
            "_model_module": "@jupyter-widgets/base",
            "_model_module_version": "1.2.0",
            "_model_name": "LayoutModel",
            "_view_count": null,
            "_view_module": "@jupyter-widgets/base",
            "_view_module_version": "1.2.0",
            "_view_name": "LayoutView",
            "align_content": null,
            "align_items": null,
            "align_self": null,
            "border": null,
            "bottom": null,
            "display": null,
            "flex": null,
            "flex_flow": null,
            "grid_area": null,
            "grid_auto_columns": null,
            "grid_auto_flow": null,
            "grid_auto_rows": null,
            "grid_column": null,
            "grid_gap": null,
            "grid_row": null,
            "grid_template_areas": null,
            "grid_template_columns": null,
            "grid_template_rows": null,
            "height": null,
            "justify_content": null,
            "justify_items": null,
            "left": null,
            "margin": null,
            "max_height": null,
            "max_width": null,
            "min_height": null,
            "min_width": null,
            "object_fit": null,
            "object_position": null,
            "order": null,
            "overflow": null,
            "overflow_x": null,
            "overflow_y": null,
            "padding": null,
            "right": null,
            "top": null,
            "visibility": null,
            "width": null
          }
        },
        "dcd33077623640cdbc27f3fe8230519f": {
          "model_module": "@jupyter-widgets/controls",
          "model_name": "DescriptionStyleModel",
          "model_module_version": "1.5.0",
          "state": {
            "_model_module": "@jupyter-widgets/controls",
            "_model_module_version": "1.5.0",
            "_model_name": "DescriptionStyleModel",
            "_view_count": null,
            "_view_module": "@jupyter-widgets/base",
            "_view_module_version": "1.2.0",
            "_view_name": "StyleView",
            "description_width": ""
          }
        },
        "9df2f9dc1b55431e88f06c2086ad79c6": {
          "model_module": "@jupyter-widgets/base",
          "model_name": "LayoutModel",
          "model_module_version": "1.2.0",
          "state": {
            "_model_module": "@jupyter-widgets/base",
            "_model_module_version": "1.2.0",
            "_model_name": "LayoutModel",
            "_view_count": null,
            "_view_module": "@jupyter-widgets/base",
            "_view_module_version": "1.2.0",
            "_view_name": "LayoutView",
            "align_content": null,
            "align_items": null,
            "align_self": null,
            "border": null,
            "bottom": null,
            "display": null,
            "flex": null,
            "flex_flow": null,
            "grid_area": null,
            "grid_auto_columns": null,
            "grid_auto_flow": null,
            "grid_auto_rows": null,
            "grid_column": null,
            "grid_gap": null,
            "grid_row": null,
            "grid_template_areas": null,
            "grid_template_columns": null,
            "grid_template_rows": null,
            "height": null,
            "justify_content": null,
            "justify_items": null,
            "left": null,
            "margin": null,
            "max_height": null,
            "max_width": null,
            "min_height": null,
            "min_width": null,
            "object_fit": null,
            "object_position": null,
            "order": null,
            "overflow": null,
            "overflow_x": null,
            "overflow_y": null,
            "padding": null,
            "right": null,
            "top": null,
            "visibility": null,
            "width": null
          }
        },
        "8e66d0cfe03245b6a8ba498e0279be44": {
          "model_module": "@jupyter-widgets/controls",
          "model_name": "ProgressStyleModel",
          "model_module_version": "1.5.0",
          "state": {
            "_model_module": "@jupyter-widgets/controls",
            "_model_module_version": "1.5.0",
            "_model_name": "ProgressStyleModel",
            "_view_count": null,
            "_view_module": "@jupyter-widgets/base",
            "_view_module_version": "1.2.0",
            "_view_name": "StyleView",
            "bar_color": null,
            "description_width": ""
          }
        },
        "05faca610d264aac875e81d17ca57331": {
          "model_module": "@jupyter-widgets/base",
          "model_name": "LayoutModel",
          "model_module_version": "1.2.0",
          "state": {
            "_model_module": "@jupyter-widgets/base",
            "_model_module_version": "1.2.0",
            "_model_name": "LayoutModel",
            "_view_count": null,
            "_view_module": "@jupyter-widgets/base",
            "_view_module_version": "1.2.0",
            "_view_name": "LayoutView",
            "align_content": null,
            "align_items": null,
            "align_self": null,
            "border": null,
            "bottom": null,
            "display": null,
            "flex": null,
            "flex_flow": null,
            "grid_area": null,
            "grid_auto_columns": null,
            "grid_auto_flow": null,
            "grid_auto_rows": null,
            "grid_column": null,
            "grid_gap": null,
            "grid_row": null,
            "grid_template_areas": null,
            "grid_template_columns": null,
            "grid_template_rows": null,
            "height": null,
            "justify_content": null,
            "justify_items": null,
            "left": null,
            "margin": null,
            "max_height": null,
            "max_width": null,
            "min_height": null,
            "min_width": null,
            "object_fit": null,
            "object_position": null,
            "order": null,
            "overflow": null,
            "overflow_x": null,
            "overflow_y": null,
            "padding": null,
            "right": null,
            "top": null,
            "visibility": null,
            "width": null
          }
        },
        "5bba9061ce664e87ac3b228391a62c3b": {
          "model_module": "@jupyter-widgets/controls",
          "model_name": "DescriptionStyleModel",
          "model_module_version": "1.5.0",
          "state": {
            "_model_module": "@jupyter-widgets/controls",
            "_model_module_version": "1.5.0",
            "_model_name": "DescriptionStyleModel",
            "_view_count": null,
            "_view_module": "@jupyter-widgets/base",
            "_view_module_version": "1.2.0",
            "_view_name": "StyleView",
            "description_width": ""
          }
        },
        "407eb8460cb2426e8294bdefc6c794b8": {
          "model_module": "@jupyter-widgets/controls",
          "model_name": "HBoxModel",
          "model_module_version": "1.5.0",
          "state": {
            "_dom_classes": [],
            "_model_module": "@jupyter-widgets/controls",
            "_model_module_version": "1.5.0",
            "_model_name": "HBoxModel",
            "_view_count": null,
            "_view_module": "@jupyter-widgets/controls",
            "_view_module_version": "1.5.0",
            "_view_name": "HBoxView",
            "box_style": "",
            "children": [
              "IPY_MODEL_e30780407067463892f44b1daa1a9d48",
              "IPY_MODEL_ea1bc508566f4a5fadc201b9471a21ff",
              "IPY_MODEL_062e1283792340e48b825545ee02b26d"
            ],
            "layout": "IPY_MODEL_31e85a88cc5843d6a162647d90b3c10f"
          }
        },
        "e30780407067463892f44b1daa1a9d48": {
          "model_module": "@jupyter-widgets/controls",
          "model_name": "HTMLModel",
          "model_module_version": "1.5.0",
          "state": {
            "_dom_classes": [],
            "_model_module": "@jupyter-widgets/controls",
            "_model_module_version": "1.5.0",
            "_model_name": "HTMLModel",
            "_view_count": null,
            "_view_module": "@jupyter-widgets/controls",
            "_view_module_version": "1.5.0",
            "_view_name": "HTMLView",
            "description": "",
            "description_tooltip": null,
            "layout": "IPY_MODEL_13587fb93c6c45cd853d6a0858810a60",
            "placeholder": "​",
            "style": "IPY_MODEL_96ebf7bb7dbb4fa891f0f144422fb53d",
            "value": "model.safetensors: 100%"
          }
        },
        "ea1bc508566f4a5fadc201b9471a21ff": {
          "model_module": "@jupyter-widgets/controls",
          "model_name": "FloatProgressModel",
          "model_module_version": "1.5.0",
          "state": {
            "_dom_classes": [],
            "_model_module": "@jupyter-widgets/controls",
            "_model_module_version": "1.5.0",
            "_model_name": "FloatProgressModel",
            "_view_count": null,
            "_view_module": "@jupyter-widgets/controls",
            "_view_module_version": "1.5.0",
            "_view_name": "ProgressView",
            "bar_style": "success",
            "description": "",
            "description_tooltip": null,
            "layout": "IPY_MODEL_9ca7290fe8a743d598a64e26a93ca1cc",
            "max": 440449768,
            "min": 0,
            "orientation": "horizontal",
            "style": "IPY_MODEL_549a6f36c6d4460e9cf8b0f965f2b5fe",
            "value": 440449768
          }
        },
        "062e1283792340e48b825545ee02b26d": {
          "model_module": "@jupyter-widgets/controls",
          "model_name": "HTMLModel",
          "model_module_version": "1.5.0",
          "state": {
            "_dom_classes": [],
            "_model_module": "@jupyter-widgets/controls",
            "_model_module_version": "1.5.0",
            "_model_name": "HTMLModel",
            "_view_count": null,
            "_view_module": "@jupyter-widgets/controls",
            "_view_module_version": "1.5.0",
            "_view_name": "HTMLView",
            "description": "",
            "description_tooltip": null,
            "layout": "IPY_MODEL_1852ba3e874e468bad2905e3800ea41a",
            "placeholder": "​",
            "style": "IPY_MODEL_fb63f1cdfa8d4885b83a07426ead435c",
            "value": " 440M/440M [00:01&lt;00:00, 326MB/s]"
          }
        },
        "31e85a88cc5843d6a162647d90b3c10f": {
          "model_module": "@jupyter-widgets/base",
          "model_name": "LayoutModel",
          "model_module_version": "1.2.0",
          "state": {
            "_model_module": "@jupyter-widgets/base",
            "_model_module_version": "1.2.0",
            "_model_name": "LayoutModel",
            "_view_count": null,
            "_view_module": "@jupyter-widgets/base",
            "_view_module_version": "1.2.0",
            "_view_name": "LayoutView",
            "align_content": null,
            "align_items": null,
            "align_self": null,
            "border": null,
            "bottom": null,
            "display": null,
            "flex": null,
            "flex_flow": null,
            "grid_area": null,
            "grid_auto_columns": null,
            "grid_auto_flow": null,
            "grid_auto_rows": null,
            "grid_column": null,
            "grid_gap": null,
            "grid_row": null,
            "grid_template_areas": null,
            "grid_template_columns": null,
            "grid_template_rows": null,
            "height": null,
            "justify_content": null,
            "justify_items": null,
            "left": null,
            "margin": null,
            "max_height": null,
            "max_width": null,
            "min_height": null,
            "min_width": null,
            "object_fit": null,
            "object_position": null,
            "order": null,
            "overflow": null,
            "overflow_x": null,
            "overflow_y": null,
            "padding": null,
            "right": null,
            "top": null,
            "visibility": null,
            "width": null
          }
        },
        "13587fb93c6c45cd853d6a0858810a60": {
          "model_module": "@jupyter-widgets/base",
          "model_name": "LayoutModel",
          "model_module_version": "1.2.0",
          "state": {
            "_model_module": "@jupyter-widgets/base",
            "_model_module_version": "1.2.0",
            "_model_name": "LayoutModel",
            "_view_count": null,
            "_view_module": "@jupyter-widgets/base",
            "_view_module_version": "1.2.0",
            "_view_name": "LayoutView",
            "align_content": null,
            "align_items": null,
            "align_self": null,
            "border": null,
            "bottom": null,
            "display": null,
            "flex": null,
            "flex_flow": null,
            "grid_area": null,
            "grid_auto_columns": null,
            "grid_auto_flow": null,
            "grid_auto_rows": null,
            "grid_column": null,
            "grid_gap": null,
            "grid_row": null,
            "grid_template_areas": null,
            "grid_template_columns": null,
            "grid_template_rows": null,
            "height": null,
            "justify_content": null,
            "justify_items": null,
            "left": null,
            "margin": null,
            "max_height": null,
            "max_width": null,
            "min_height": null,
            "min_width": null,
            "object_fit": null,
            "object_position": null,
            "order": null,
            "overflow": null,
            "overflow_x": null,
            "overflow_y": null,
            "padding": null,
            "right": null,
            "top": null,
            "visibility": null,
            "width": null
          }
        },
        "96ebf7bb7dbb4fa891f0f144422fb53d": {
          "model_module": "@jupyter-widgets/controls",
          "model_name": "DescriptionStyleModel",
          "model_module_version": "1.5.0",
          "state": {
            "_model_module": "@jupyter-widgets/controls",
            "_model_module_version": "1.5.0",
            "_model_name": "DescriptionStyleModel",
            "_view_count": null,
            "_view_module": "@jupyter-widgets/base",
            "_view_module_version": "1.2.0",
            "_view_name": "StyleView",
            "description_width": ""
          }
        },
        "9ca7290fe8a743d598a64e26a93ca1cc": {
          "model_module": "@jupyter-widgets/base",
          "model_name": "LayoutModel",
          "model_module_version": "1.2.0",
          "state": {
            "_model_module": "@jupyter-widgets/base",
            "_model_module_version": "1.2.0",
            "_model_name": "LayoutModel",
            "_view_count": null,
            "_view_module": "@jupyter-widgets/base",
            "_view_module_version": "1.2.0",
            "_view_name": "LayoutView",
            "align_content": null,
            "align_items": null,
            "align_self": null,
            "border": null,
            "bottom": null,
            "display": null,
            "flex": null,
            "flex_flow": null,
            "grid_area": null,
            "grid_auto_columns": null,
            "grid_auto_flow": null,
            "grid_auto_rows": null,
            "grid_column": null,
            "grid_gap": null,
            "grid_row": null,
            "grid_template_areas": null,
            "grid_template_columns": null,
            "grid_template_rows": null,
            "height": null,
            "justify_content": null,
            "justify_items": null,
            "left": null,
            "margin": null,
            "max_height": null,
            "max_width": null,
            "min_height": null,
            "min_width": null,
            "object_fit": null,
            "object_position": null,
            "order": null,
            "overflow": null,
            "overflow_x": null,
            "overflow_y": null,
            "padding": null,
            "right": null,
            "top": null,
            "visibility": null,
            "width": null
          }
        },
        "549a6f36c6d4460e9cf8b0f965f2b5fe": {
          "model_module": "@jupyter-widgets/controls",
          "model_name": "ProgressStyleModel",
          "model_module_version": "1.5.0",
          "state": {
            "_model_module": "@jupyter-widgets/controls",
            "_model_module_version": "1.5.0",
            "_model_name": "ProgressStyleModel",
            "_view_count": null,
            "_view_module": "@jupyter-widgets/base",
            "_view_module_version": "1.2.0",
            "_view_name": "StyleView",
            "bar_color": null,
            "description_width": ""
          }
        },
        "1852ba3e874e468bad2905e3800ea41a": {
          "model_module": "@jupyter-widgets/base",
          "model_name": "LayoutModel",
          "model_module_version": "1.2.0",
          "state": {
            "_model_module": "@jupyter-widgets/base",
            "_model_module_version": "1.2.0",
            "_model_name": "LayoutModel",
            "_view_count": null,
            "_view_module": "@jupyter-widgets/base",
            "_view_module_version": "1.2.0",
            "_view_name": "LayoutView",
            "align_content": null,
            "align_items": null,
            "align_self": null,
            "border": null,
            "bottom": null,
            "display": null,
            "flex": null,
            "flex_flow": null,
            "grid_area": null,
            "grid_auto_columns": null,
            "grid_auto_flow": null,
            "grid_auto_rows": null,
            "grid_column": null,
            "grid_gap": null,
            "grid_row": null,
            "grid_template_areas": null,
            "grid_template_columns": null,
            "grid_template_rows": null,
            "height": null,
            "justify_content": null,
            "justify_items": null,
            "left": null,
            "margin": null,
            "max_height": null,
            "max_width": null,
            "min_height": null,
            "min_width": null,
            "object_fit": null,
            "object_position": null,
            "order": null,
            "overflow": null,
            "overflow_x": null,
            "overflow_y": null,
            "padding": null,
            "right": null,
            "top": null,
            "visibility": null,
            "width": null
          }
        },
        "fb63f1cdfa8d4885b83a07426ead435c": {
          "model_module": "@jupyter-widgets/controls",
          "model_name": "DescriptionStyleModel",
          "model_module_version": "1.5.0",
          "state": {
            "_model_module": "@jupyter-widgets/controls",
            "_model_module_version": "1.5.0",
            "_model_name": "DescriptionStyleModel",
            "_view_count": null,
            "_view_module": "@jupyter-widgets/base",
            "_view_module_version": "1.2.0",
            "_view_name": "StyleView",
            "description_width": ""
          }
        }
      }
    }
  },
  "cells": [
    {
      "cell_type": "code",
      "execution_count": null,
      "metadata": {
        "id": "Fo5xq6ccvJ7i"
      },
      "outputs": [],
      "source": [
        "import torch\n",
        "import torch.nn as nn\n",
        "import torch.optim as optim\n",
        "from transformers import BertTokenizer, BertModel\n",
        "from torch.utils.data import DataLoader, TensorDataset, random_split\n",
        "import numpy as np\n",
        "import pandas as pd\n",
        "import pickle\n",
        "from sklearn.preprocessing import LabelEncoder"
      ]
    },
    {
      "cell_type": "code",
      "source": [
        "import pandas as pd\n",
        "from sklearn.preprocessing import LabelEncoder\n",
        "from sklearn.model_selection import train_test_split\n",
        "from transformers import BertTokenizer, BertForSequenceClassification, AdamW, BertConfig, get_linear_schedule_with_warmup\n",
        "import matplotlib as plt\n",
        "import torch\n",
        "from torch.utils.data import DataLoader, RandomSampler, SequentialSampler, TensorDataset\n",
        "from sklearn.metrics import *\n",
        "import numpy as np\n",
        "import pandas as pd\n",
        "from sklearn.metrics import matthews_corrcoef"
      ],
      "metadata": {
        "id": "1eoZUVpu2tyY"
      },
      "execution_count": null,
      "outputs": []
    },
    {
      "cell_type": "code",
      "source": [
        "from google.colab import drive\n",
        "drive.mount('/content/drive')"
      ],
      "metadata": {
        "colab": {
          "base_uri": "https://localhost:8080/"
        },
        "id": "MDOrhJLxCSGt",
        "outputId": "cb9e7f1e-f494-4b12-8bb6-f1a826251307"
      },
      "execution_count": null,
      "outputs": [
        {
          "output_type": "stream",
          "name": "stdout",
          "text": [
            "Mounted at /content/drive\n"
          ]
        }
      ]
    },
    {
      "cell_type": "code",
      "source": [
        "dataset = pd.read_pickle(\"/content/drive/MyDrive/Multimodal Emotion Tracking/IEMOCAP ICON Features/dataset.pkl\")"
      ],
      "metadata": {
        "id": "xdzZz7_5vO5C"
      },
      "execution_count": null,
      "outputs": []
    },
    {
      "cell_type": "code",
      "source": [
        "with open(\"/content/drive/MyDrive/Multimodal Emotion Tracking/IEMOCAP ICON Features/testID.pkl\", 'rb') as f:\n",
        "    testID = pickle.load(f)"
      ],
      "metadata": {
        "id": "8WEn3A_4vQ5L"
      },
      "execution_count": null,
      "outputs": []
    },
    {
      "cell_type": "code",
      "source": [
        "with open(\"/content/drive/MyDrive/Multimodal Emotion Tracking/IEMOCAP ICON Features/trainID.pkl\", 'rb') as f:\n",
        "    trainID = pickle.load(f)"
      ],
      "metadata": {
        "id": "54bQuzJNvQ7X"
      },
      "execution_count": null,
      "outputs": []
    },
    {
      "cell_type": "code",
      "source": [
        "X_train = []\n",
        "y_train = []\n",
        "for i in trainID:\n",
        "  X_train.append(dataset[0][i])\n",
        "  y_train.append(dataset[1][i])\n",
        "\n",
        "print(len(X_train), len(y_train))"
      ],
      "metadata": {
        "colab": {
          "base_uri": "https://localhost:8080/"
        },
        "id": "TacinAokUIKE",
        "outputId": "9805a2b2-38dc-4be4-de04-481d4b9dfba1"
      },
      "execution_count": null,
      "outputs": [
        {
          "output_type": "stream",
          "name": "stdout",
          "text": [
            "5810 5810\n"
          ]
        }
      ]
    },
    {
      "cell_type": "code",
      "source": [
        "X_test = []\n",
        "y_test = []\n",
        "for i in testID:\n",
        "  X_test.append(dataset[0][i])\n",
        "  y_test.append(dataset[1][i])\n",
        "\n",
        "print(len(X_test), len(y_test))"
      ],
      "metadata": {
        "colab": {
          "base_uri": "https://localhost:8080/"
        },
        "id": "MgRhNv9gUIQA",
        "outputId": "78b87751-45b4-4892-c058-419ca551cb2e"
      },
      "execution_count": null,
      "outputs": [
        {
          "output_type": "stream",
          "name": "stdout",
          "text": [
            "1623 1623\n"
          ]
        }
      ]
    },
    {
      "cell_type": "code",
      "source": [
        "X = np.concatenate((X_train, X_test), axis=0)"
      ],
      "metadata": {
        "id": "XwzDh0iRWI6B"
      },
      "execution_count": null,
      "outputs": []
    },
    {
      "cell_type": "code",
      "source": [
        "y = np.concatenate((y_train, y_test), axis=0)"
      ],
      "metadata": {
        "id": "X0CmOwFkWMVL"
      },
      "execution_count": null,
      "outputs": []
    },
    {
      "cell_type": "code",
      "source": [
        "# Encoding target variable\n",
        "encoder = LabelEncoder()\n",
        "y = encoder.fit_transform(y)"
      ],
      "metadata": {
        "id": "lnVYsHOkvkYP"
      },
      "execution_count": null,
      "outputs": []
    },
    {
      "cell_type": "code",
      "source": [
        "label_mapping = dict(zip(encoder.classes_, encoder.transform(encoder.classes_)))\n",
        "print(\"Etiketlerin sayısal değerleri:\")\n",
        "print(label_mapping)"
      ],
      "metadata": {
        "colab": {
          "base_uri": "https://localhost:8080/"
        },
        "id": "gPxv4kDuZaZa",
        "outputId": "c4495c10-8008-442a-f5d5-b095e249b426"
      },
      "execution_count": null,
      "outputs": [
        {
          "output_type": "stream",
          "name": "stdout",
          "text": [
            "Etiketlerin sayısal değerleri:\n",
            "{'ang': 0, 'exc': 1, 'fru': 2, 'hap': 3, 'neu': 4, 'sad': 5}\n"
          ]
        }
      ]
    },
    {
      "cell_type": "code",
      "source": [
        "print(np.where(y == 0)[0])"
      ],
      "metadata": {
        "colab": {
          "base_uri": "https://localhost:8080/"
        },
        "collapsed": true,
        "id": "YwbBI3nFiO-2",
        "outputId": "839d6bf8-1b8b-48c9-82b4-e1c24dfa3118"
      },
      "execution_count": null,
      "outputs": [
        {
          "output_type": "stream",
          "name": "stdout",
          "text": [
            "[  26   27   28   29   46   47   49   50   58   59   88   89   90   91\n",
            "   92  107  108  130  159  163  185  186  187  188  189  194  195  196\n",
            "  197  199  200  201  202  203  227  232  233  238  251  254  256  258\n",
            "  259  260  261  262  263  269  292  306  416  417  418  419  420  422\n",
            "  423  424  432  443  455  458  459  460  461  462  463  489  490  491\n",
            "  492  515  516  517  526  527  528  529  530  531  535  539  571  572\n",
            "  573  574  575  577  578  579  586  587  588  589  626  627  628  699\n",
            "  705  706  711  730  731  732  734  736  740  748  749  753  754  759\n",
            "  760  761  762  763  764  765  778  790  791  792  793  794  795  796\n",
            "  797  798  805  832  834  839  840  856  857  858  859  860  861  862\n",
            "  863  865  866  868  869  878  879  880  881  883  884  886  896  897\n",
            "  899  961  962  963  964  965  970  971 1002 1003 1009 1010 1011 1012\n",
            " 1013 1014 1080 1083 1087 1090 1091 1092 1099 1103 1104 1121 1122 1129\n",
            " 1130 1161 1165 1167 1172 1188 1199 1201 1203 1205 1206 1207 1209 1211\n",
            " 1222 1223 1224 1225 1226 1227 1228 1229 1233 1243 1244 1245 1246 1261\n",
            " 1262 1263 1264 1273 1280 1281 1291 1292 1293 1294 1295 1296 1297 1298\n",
            " 1299 1302 1303 1304 1305 1307 1310 1326 1327 1328 1329 1330 1331 1351\n",
            " 1352 1361 1399 1400 1401 1402 1403 1411 1412 1413 1414 1415 1416 1417\n",
            " 1420 1422 1426 1428 1433 1440 1442 1446 1447 1448 1449 1450 1451 1452\n",
            " 1461 1462 1466 1476 1486 1488 1492 1496 1498 1528 1530 1532 1543 1544\n",
            " 1545 1546 1547 1548 1560 1561 1562 1563 1564 1565 1566 1569 1570 1576\n",
            " 1577 1578 1579 1580 1581 1582 1583 1635 1677 1678 1679 1694 1695 1696\n",
            " 1697 1698 1699 1700 1701 1725 1726 1727 1728 1730 1731 1736 1737 1738\n",
            " 1739 1740 1741 1742 1743 1748 1749 1752 1753 1812 1814 1815 1816 1817\n",
            " 1818 1829 1857 1864 1877 1878 1879 1915 1916 1919 1934 1935 1940 1941\n",
            " 1942 1943 1944 1945 1948 1949 1962 1978 1992 1994 2013 2014 2015 2016\n",
            " 2017 2018 2019 2042 2060 2064 2065 2066 2070 2105 2112 2113 2114 2115\n",
            " 2116 2156 2157 2160 2179 2188 2190 2192 2195 2203 2262 2263 2265 2268\n",
            " 2269 2272 2273 2274 2275 2277 2286 2287 2288 2291 2294 2298 2315 2339\n",
            " 2340 2341 2342 2344 2345 2431 2434 2435 2436 2437 2438 2439 2440 2441\n",
            " 2454 2459 2460 2462 2463 2464 2465 2467 2468 2469 2470 2471 2472 2473\n",
            " 2475 2476 2477 2478 2480 2523 2536 2537 2538 2541 2560 2564 2565 2614\n",
            " 2617 2625 2626 2627 2628 2629 2630 2631 2632 2633 2634 2639 2718 2722\n",
            " 2730 2732 2733 2751 2752 2776 2777 2800 2808 2809 2811 2812 2813 2815\n",
            " 2816 2840 2875 2908 2924 2925 2944 2948 2951 2952 2953 2954 2955 2956\n",
            " 2957 2958 2959 2960 2961 2962 2963 2964 2965 2966 2967 2968 2969 2987\n",
            " 2998 2999 3000 3001 3029 3030 3056 3082 3092 3095 3096 3097 3145 3156\n",
            " 3197 3213 3221 3246 3249 3251 3261 3262 3287 3297 3298 3299 3300 3301\n",
            " 3303 3313 3314 3315 3317 3336 3337 3346 3347 3380 3382 3383 3387 3472\n",
            " 3473 3479 3480 3492 3493 3494 3495 3496 3497 3516 3517 3518 3519 3521\n",
            " 3532 3533 3534 3535 3544 3552 3563 3564 3569 3570 3571 3572 3573 3574\n",
            " 3575 3576 3577 3578 3585 3606 3609 3611 3614 3615 3618 3619 3620 3622\n",
            " 3625 3626 3627 3628 3648 3651 3661 3663 3664 3669 3673 3674 3700 3701\n",
            " 3702 3712 3713 3716 3718 3722 3723 3724 3725 3727 3730 3732 3751 3752\n",
            " 3753 3755 3773 3803 3804 3805 3806 3812 3840 3842 3843 3844 3845 3847\n",
            " 3848 3849 3850 3851 3870 3875 3891 3892 3898 3960 3961 3962 3963 3964\n",
            " 3965 3966 3967 3968 3986 4007 4009 4010 4019 4020 4037 4038 4039 4040\n",
            " 4041 4050 4057 4060 4061 4066 4067 4068 4069 4070 4071 4072 4073 4127\n",
            " 4130 4131 4133 4134 4155 4169 4171 4172 4175 4176 4177 4179 4192 4193\n",
            " 4194 4195 4209 4210 4221 4222 4255 4256 4260 4261 4263 4264 4265 4266\n",
            " 4267 4268 4269 4271 4272 4273 4276 4277 4280 4281 4282 4287 4288 4294\n",
            " 4296 4297 4298 4334 4337 4346 4349 4368 4376 4377 4378 4379 4399 4404\n",
            " 4407 4409 4410 4411 4413 4416 4417 4419 4425 4436 4459 4460 4461 4462\n",
            " 4464 4465 4467 4468 4471 4472 4473 4474 4475 4476 4477 4478 4479 4489\n",
            " 4503 4504 4505 4511 4523 4524 4527 4531 4533 4534 4535 4536 4537 4583\n",
            " 4585 4588 4593 4598 4630 4643 4665 4667 4668 4669 4670 4672 4673 4676\n",
            " 4677 4678 4679 4680 4681 4682 4683 4684 4685 4687 4689 4690 4691 4692\n",
            " 4694 4695 4710 4711 4712 4756 4757 4758 4759 4760 4761 4762 4831 4846\n",
            " 4850 4868 4869 4873 4875 4886 4887 4888 4890 4895 4897 4898 4903 4904\n",
            " 4905 4906 4908 4929 4985 4989 4992 4998 4999 5039 5040 5041 5042 5043\n",
            " 5044 5045 5046 5047 5048 5049 5050 5082 5140 5146 5189 5190 5191 5192\n",
            " 5193 5194 5195 5196 5197 5198 5205 5240 5241 5242 5246 5270 5274 5362\n",
            " 5363 5364 5381 5382 5417 5419 5420 5424 5428 5429 5431 5432 5433 5434\n",
            " 5435 5436 5437 5438 5439 5440 5442 5445 5476 5477 5478 5479 5480 5482\n",
            " 5483 5489 5490 5491 5493 5495 5523 5524 5526 5527 5541 5543 5568 5591\n",
            " 5592 5593 5646 5647 5661 5662 5664 5665 5666 5668 5669 5670 5671 5672\n",
            " 5673 5674 5675 5700 5745 5746 5747 5748 5789 5813 5824 5825 5855 5856\n",
            " 5886 5887 5891 5893 5903 5904 5906 5908 5909 5910 5911 5949 5951 5952\n",
            " 5953 5954 5966 5998 5999 6000 6003 6008 6010 6012 6013 6014 6033 6034\n",
            " 6035 6036 6055 6057 6058 6059 6061 6062 6063 6084 6113 6114 6116 6117\n",
            " 6128 6129 6135 6147 6161 6180 6217 6220 6232 6263 6264 6266 6282 6284\n",
            " 6312 6313 6321 6322 6323 6326 6327 6331 6333 6396 6406 6459 6484 6493\n",
            " 6494 6535 6536 6568 6573 6576 6581 6604 6611 6643 6654 6655 6656 6657\n",
            " 6658 6659 6670 6671 6673 6690 6691 6692 6698 6699 6700 6723 6724 6727\n",
            " 6763 6778 6779 6780 6781 6782 6783 6784 6785 6786 6787 6849 6871 6875\n",
            " 6876 6878 6879 6897 6898 6899 6900 6902 6923 6951 6953 6955 6956 6959\n",
            " 6960 6961 6962 6963 6964 6990 6991 6992 6999 7009 7097 7098 7108 7110\n",
            " 7111 7112 7113 7114 7159 7178 7179 7180 7212 7213 7214 7217 7233 7234\n",
            " 7341 7370 7376 7387 7394 7397 7398 7400 7401 7404 7431]\n"
          ]
        }
      ]
    },
    {
      "cell_type": "code",
      "source": [
        "X[7404]"
      ],
      "metadata": {
        "colab": {
          "base_uri": "https://localhost:8080/",
          "height": 35
        },
        "id": "Wk74WTdCiv1N",
        "outputId": "b6e7b90f-5a25-48b5-fb19-542087894f07"
      },
      "execution_count": null,
      "outputs": [
        {
          "output_type": "execute_result",
          "data": {
            "text/plain": [
              "\"All right!  But don't think like that, because I mean, what the hell did we do all this for, Chris?  The whole business it's all for you!  The whole shooting match is for you!\""
            ],
            "application/vnd.google.colaboratory.intrinsic+json": {
              "type": "string"
            }
          },
          "metadata": {},
          "execution_count": 83
        }
      ]
    },
    {
      "cell_type": "code",
      "source": [
        "print(np.where(y == 2)[0])"
      ],
      "metadata": {
        "colab": {
          "base_uri": "https://localhost:8080/"
        },
        "collapsed": true,
        "id": "l_ryveCLi9Ou",
        "outputId": "08f8e109-4ca5-4847-df98-b28be15a3c54"
      },
      "execution_count": null,
      "outputs": [
        {
          "output_type": "stream",
          "name": "stdout",
          "text": [
            "[  12   13   14   15   16   24   32   42   43   44   45   48   51   53\n",
            "   57   61   74   75   79   80   84   85   93   94   95   96   98   99\n",
            "  100  102  104  110  111  122  123  124  125  126  127  128  129  131\n",
            "  132  133  137  138  139  141  144  145  146  147  149  151  153  154\n",
            "  157  158  160  161  162  165  166  168  171  175  178  179  180  183\n",
            "  190  191  192  193  213  228  231  234  235  236  237  248  249  250\n",
            "  252  255  257  271  288  289  291  294  295  296  297  298  301  302\n",
            "  303  304  305  308  309  310  319  320  321  322  331  332  339  340\n",
            "  345  358  359  361  362  366  368  369  377  381  382  383  396  397\n",
            "  399  401  402  408  409  433  434  456  457  464  465  466  467  468\n",
            "  469  470  474  475  476  477  478  479  480  481  482  486  508  509\n",
            "  514  521  522  523  524  525  534  536  537  538  540  541  542  543\n",
            "  545  546  547  562  563  566  567  569  576  580  581  582  590  625\n",
            "  629  630  631  632  633  634  635  636  637  649  650  658  659  660\n",
            "  661  662  663  665  666  667  668  669  670  671  672  673  674  676\n",
            "  677  679  680  681  682  683  684  686  687  698  700  701  704  709\n",
            "  712  720  722  723  728  729  733  735  751  752  755  756  770  772\n",
            "  773  774  775  776  777  779  783  784  785  786  787  788  789  802\n",
            "  804  819  828  829  831  833  837  838  855  864  867  882  891  893\n",
            "  894  895  898  900  901  918  919  920  930  938  939  942  951  952\n",
            "  953  955  957  958  959  960  969  973  989  995 1023 1025 1027 1028\n",
            " 1038 1039 1042 1043 1044 1047 1048 1070 1071 1073 1074 1077 1078 1079\n",
            " 1086 1088 1089 1095 1097 1098 1105 1106 1107 1108 1109 1110 1111 1146\n",
            " 1160 1162 1163 1164 1166 1168 1169 1170 1171 1173 1174 1186 1187 1189\n",
            " 1190 1191 1192 1193 1198 1200 1202 1210 1212 1213 1214 1215 1216 1217\n",
            " 1218 1219 1221 1230 1231 1232 1247 1248 1249 1250 1251 1254 1265 1266\n",
            " 1267 1268 1271 1272 1276 1279 1282 1283 1284 1285 1286 1287 1288 1289\n",
            " 1290 1306 1350 1353 1354 1355 1356 1357 1358 1359 1360 1374 1395 1396\n",
            " 1398 1421 1424 1425 1427 1430 1431 1432 1434 1435 1436 1437 1441 1455\n",
            " 1456 1457 1459 1463 1464 1467 1485 1487 1489 1491 1493 1494 1495 1497\n",
            " 1499 1500 1501 1510 1518 1520 1524 1525 1529 1531 1538 1549 1551 1552\n",
            " 1553 1554 1557 1558 1559 1567 1568 1571 1572 1573 1574 1575 1597 1627\n",
            " 1634 1649 1653 1661 1672 1675 1676 1680 1681 1682 1724 1729 1744 1745\n",
            " 1746 1750 1751 1754 1755 1819 1841 1848 1849 1858 1859 1863 1876 1880\n",
            " 1889 1891 1892 1893 1894 1895 1924 1926 1928 1929 1930 1931 1932 1936\n",
            " 1937 1947 1963 1964 1966 1977 1991 1993 2005 2006 2007 2008 2009 2010\n",
            " 2011 2012 2021 2027 2028 2040 2041 2043 2045 2058 2059 2062 2063 2067\n",
            " 2068 2069 2071 2110 2111 2128 2137 2138 2139 2141 2142 2143 2144 2145\n",
            " 2155 2164 2165 2183 2184 2186 2187 2189 2191 2193 2194 2199 2201 2205\n",
            " 2207 2208 2209 2211 2212 2214 2215 2216 2217 2218 2230 2232 2233 2234\n",
            " 2235 2236 2237 2238 2239 2249 2250 2251 2253 2264 2266 2270 2271 2276\n",
            " 2295 2307 2309 2327 2329 2330 2333 2338 2343 2367 2385 2387 2389 2397\n",
            " 2400 2401 2402 2403 2404 2405 2406 2407 2408 2409 2410 2411 2412 2420\n",
            " 2424 2425 2432 2433 2442 2453 2455 2456 2457 2458 2482 2483 2484 2485\n",
            " 2486 2487 2488 2500 2504 2505 2540 2550 2559 2566 2567 2568 2572 2579\n",
            " 2580 2582 2583 2584 2585 2586 2587 2588 2611 2613 2616 2618 2619 2621\n",
            " 2622 2623 2624 2635 2636 2640 2641 2642 2643 2644 2645 2660 2661 2662\n",
            " 2663 2664 2665 2666 2689 2700 2716 2719 2720 2721 2734 2738 2739 2740\n",
            " 2741 2754 2755 2756 2757 2765 2768 2769 2771 2772 2773 2778 2779 2780\n",
            " 2782 2783 2784 2787 2798 2806 2814 2817 2825 2826 2827 2839 2842 2843\n",
            " 2844 2845 2846 2858 2859 2865 2866 2868 2869 2870 2876 2877 2878 2879\n",
            " 2881 2884 2885 2886 2887 2888 2889 2890 2892 2893 2903 2921 2922 2943\n",
            " 2945 2946 2947 2949 2984 2985 2986 2988 2989 2990 2992 2993 2994 2995\n",
            " 2996 2997 3002 3003 3013 3014 3017 3018 3019 3020 3022 3023 3024 3025\n",
            " 3026 3027 3028 3031 3032 3036 3038 3048 3049 3050 3051 3052 3053 3066\n",
            " 3067 3070 3071 3072 3073 3085 3089 3093 3094 3098 3107 3112 3113 3114\n",
            " 3115 3124 3130 3131 3132 3133 3134 3135 3136 3137 3138 3141 3142 3143\n",
            " 3144 3155 3162 3164 3170 3173 3176 3192 3193 3194 3195 3196 3199 3201\n",
            " 3203 3204 3212 3214 3215 3216 3217 3218 3219 3220 3224 3225 3245 3247\n",
            " 3248 3250 3258 3260 3263 3264 3265 3266 3267 3268 3280 3282 3283 3285\n",
            " 3288 3292 3302 3316 3318 3319 3322 3324 3325 3326 3327 3328 3332 3335\n",
            " 3338 3340 3341 3342 3343 3344 3345 3348 3362 3363 3364 3365 3375 3385\n",
            " 3386 3388 3389 3390 3391 3392 3397 3398 3410 3411 3418 3419 3420 3421\n",
            " 3422 3423 3424 3425 3426 3427 3428 3429 3430 3431 3432 3439 3441 3442\n",
            " 3446 3448 3449 3459 3460 3461 3462 3463 3477 3481 3482 3483 3485 3486\n",
            " 3487 3488 3489 3498 3520 3523 3524 3543 3545 3546 3548 3550 3551 3553\n",
            " 3555 3556 3557 3558 3559 3560 3561 3562 3565 3566 3580 3584 3589 3590\n",
            " 3607 3610 3613 3616 3617 3631 3635 3646 3649 3650 3652 3653 3656 3657\n",
            " 3658 3659 3660 3662 3670 3672 3675 3676 3695 3696 3697 3698 3699 3703\n",
            " 3704 3705 3709 3717 3726 3731 3733 3737 3738 3739 3740 3741 3742 3743\n",
            " 3744 3745 3746 3747 3758 3771 3798 3799 3802 3807 3808 3809 3810 3811\n",
            " 3813 3814 3835 3841 3846 3871 3872 3873 3874 3876 3877 3878 3881 3882\n",
            " 3893 3895 3899 3901 3902 3906 3907 3915 3917 3918 3919 3920 3921 3929\n",
            " 3930 3931 3932 3939 3942 3943 3948 3959 3969 3970 3971 3972 3973 3974\n",
            " 3975 3976 3980 3981 3982 3983 3984 3985 3987 3997 4001 4002 4014 4017\n",
            " 4018 4021 4022 4023 4024 4025 4026 4033 4034 4035 4036 4047 4048 4049\n",
            " 4051 4052 4053 4054 4055 4056 4058 4059 4062 4063 4064 4065 4084 4091\n",
            " 4123 4125 4126 4128 4129 4136 4157 4173 4178 4180 4191 4196 4198 4199\n",
            " 4201 4202 4211 4212 4213 4214 4215 4216 4217 4218 4219 4220 4236 4245\n",
            " 4258 4259 4262 4270 4274 4275 4278 4279 4289 4290 4291 4292 4293 4306\n",
            " 4313 4323 4324 4326 4327 4328 4329 4330 4331 4332 4333 4335 4336 4338\n",
            " 4398 4400 4405 4406 4408 4412 4418 4420 4421 4423 4424 4426 4427 4428\n",
            " 4429 4435 4440 4453 4454 4455 4456 4463 4490 4506 4507 4510 4512 4516\n",
            " 4517 4518 4519 4520 4521 4522 4528 4529 4530 4567 4580 4586 4587 4589\n",
            " 4590 4599 4602 4604 4607 4608 4609 4612 4618 4619 4620 4623 4624 4628\n",
            " 4629 4633 4635 4638 4658 4659 4660 4661 4662 4663 4671 4674 4675 4693\n",
            " 4698 4699 4700 4702 4703 4704 4705 4706 4707 4708 4709 4714 4715 4729\n",
            " 4731 4732 4755 4787 4788 4789 4791 4792 4793 4794 4795 4796 4797 4817\n",
            " 4818 4823 4824 4825 4827 4828 4829 4847 4848 4849 4851 4867 4870 4871\n",
            " 4872 4874 4889 4891 4892 4893 4894 4899 4900 4901 4902 4907 4919 4926\n",
            " 4927 4930 4932 4933 4934 4935 4936 4966 4967 4968 4969 4984 4986 4987\n",
            " 4988 4990 4991 4996 4997 5000 5001 5002 5003 5018 5022 5026 5028 5067\n",
            " 5080 5113 5141 5142 5143 5149 5150 5151 5152 5153 5154 5155 5157 5158\n",
            " 5159 5160 5161 5162 5163 5164 5165 5166 5167 5168 5203 5204 5207 5219\n",
            " 5220 5221 5222 5223 5224 5225 5226 5227 5249 5251 5252 5253 5257 5258\n",
            " 5259 5273 5276 5283 5284 5286 5290 5296 5308 5309 5310 5311 5322 5323\n",
            " 5325 5326 5327 5328 5329 5365 5379 5402 5403 5404 5405 5406 5407 5408\n",
            " 5418 5430 5441 5443 5444 5446 5448 5453 5475 5481 5484 5488 5494 5496\n",
            " 5497 5499 5500 5502 5505 5520 5525 5528 5529 5530 5531 5532 5533 5536\n",
            " 5539 5542 5544 5561 5562 5564 5565 5567 5570 5572 5573 5578 5579 5582\n",
            " 5584 5586 5587 5588 5590 5597 5600 5603 5604 5605 5606 5608 5609 5610\n",
            " 5611 5612 5613 5614 5618 5620 5630 5631 5643 5648 5649 5650 5651 5653\n",
            " 5654 5655 5659 5660 5663 5667 5693 5694 5695 5696 5697 5701 5712 5714\n",
            " 5715 5716 5717 5718 5719 5720 5721 5722 5723 5728 5729 5738 5751 5752\n",
            " 5753 5755 5768 5769 5770 5771 5772 5773 5784 5785 5786 5797 5810 5811\n",
            " 5812 5814 5815 5817 5827 5828 5852 5857 5858 5860 5861 5862 5874 5885\n",
            " 5892 5894 5895 5896 5897 5898 5899 5900 5901 5902 5912 5956 5975 5976\n",
            " 5977 5996 6001 6002 6009 6015 6017 6018 6027 6028 6029 6030 6056 6064\n",
            " 6065 6069 6070 6071 6073 6083 6086 6104 6105 6112 6118 6125 6134 6139\n",
            " 6140 6141 6142 6143 6144 6145 6146 6153 6154 6155 6156 6160 6162 6163\n",
            " 6165 6181 6182 6183 6184 6193 6194 6195 6197 6198 6199 6216 6218 6219\n",
            " 6258 6262 6265 6267 6273 6274 6276 6283 6287 6290 6292 6296 6306 6307\n",
            " 6310 6311 6315 6316 6317 6330 6332 6334 6335 6336 6337 6341 6342 6343\n",
            " 6345 6348 6349 6350 6356 6357 6358 6359 6360 6361 6370 6372 6373 6374\n",
            " 6376 6377 6378 6390 6393 6397 6398 6399 6400 6401 6403 6404 6405 6413\n",
            " 6416 6424 6429 6430 6431 6432 6455 6458 6460 6461 6474 6475 6478 6482\n",
            " 6483 6487 6495 6496 6497 6504 6509 6511 6514 6515 6520 6526 6527 6531\n",
            " 6532 6533 6534 6537 6538 6553 6574 6575 6577 6578 6582 6584 6600 6601\n",
            " 6608 6609 6624 6625 6635 6672 6674 6693 6694 6695 6714 6728 6729 6750\n",
            " 6762 6764 6765 6766 6777 6790 6791 6806 6807 6808 6810 6824 6835 6841\n",
            " 6866 6867 6869 6880 6887 6888 6889 6893 6895 6896 6903 6904 6906 6908\n",
            " 6909 6924 6926 6927 6928 6932 6940 6944 6952 6957 6958 6966 6967 6968\n",
            " 6969 6970 6971 6972 6973 6978 6979 6981 6985 6986 6987 6988 6989 6993\n",
            " 6994 6995 6996 6997 7000 7025 7028 7030 7031 7034 7067 7068 7069 7071\n",
            " 7086 7087 7099 7100 7104 7105 7107 7121 7129 7130 7131 7132 7133 7134\n",
            " 7136 7137 7138 7139 7140 7141 7142 7143 7144 7147 7166 7167 7170 7177\n",
            " 7181 7187 7189 7190 7193 7194 7196 7201 7202 7203 7204 7205 7211 7215\n",
            " 7216 7218 7219 7220 7221 7222 7224 7225 7226 7227 7228 7229 7230 7231\n",
            " 7232 7243 7244 7245 7246 7247 7248 7249 7265 7267 7269 7270 7271 7272\n",
            " 7273 7274 7275 7276 7277 7278 7282 7283 7284 7287 7288 7289 7293 7294\n",
            " 7316 7317 7334 7338 7342 7343 7344 7345 7351 7354 7366 7369 7377 7378\n",
            " 7379 7380 7388 7391 7393 7395 7396 7399 7402 7403 7416 7417 7418 7420\n",
            " 7421]\n"
          ]
        }
      ]
    },
    {
      "cell_type": "code",
      "source": [
        "X[3340]"
      ],
      "metadata": {
        "colab": {
          "base_uri": "https://localhost:8080/",
          "height": 35
        },
        "id": "ikVUXNntjEOw",
        "outputId": "23b83278-0376-46bb-9805-16850a6ac61d"
      },
      "execution_count": null,
      "outputs": [
        {
          "output_type": "execute_result",
          "data": {
            "text/plain": [
              "'What have I got to hide? What the hell is the matter with you, Kate?'"
            ],
            "application/vnd.google.colaboratory.intrinsic+json": {
              "type": "string"
            }
          },
          "metadata": {},
          "execution_count": 86
        }
      ]
    },
    {
      "cell_type": "code",
      "source": [
        "import matplotlib.pyplot as plt\n",
        "import seaborn as sns\n",
        "\n",
        "# Eğitim seti için sınıf dağılımı\n",
        "plt.figure(figsize=(10, 6))\n",
        "sns.countplot(x=y, color='#BA55D3')  # Çubuklar mor renkte olacak şekilde ayarlandı\n",
        "plt.title('Emotion Distribution')\n",
        "plt.xlabel('EMOTIONS')\n",
        "plt.ylabel('COUNTS')\n",
        "plt.xticks(rotation=45)  # X eksenindeki yazılar çapraz yazılacak şekilde ayarlandı\n",
        "plt.show()\n"
      ],
      "metadata": {
        "colab": {
          "base_uri": "https://localhost:8080/",
          "height": 566
        },
        "id": "i1FmljgdCGFk",
        "outputId": "ab36f4ea-0d66-43e1-d2ac-0972bbe61438"
      },
      "execution_count": null,
      "outputs": [
        {
          "output_type": "display_data",
          "data": {
            "text/plain": [
              "<Figure size 1000x600 with 1 Axes>"
            ],
            "image/png": "[encoded data removed]"
          },
          "metadata": {}
        }
      ]
    },
    {
      "cell_type": "code",
      "source": [
        "from sklearn.model_selection import train_test_split\n",
        "\n",
        "# Veriyi %80 eğitim ve %20 doğrulama/test olarak ayır\n",
        "x_train_full, x_temp, y_train_full, y_temp = train_test_split(X, y, test_size=0.2, random_state=42)\n",
        "\n",
        "# Eğitim setini %87.5 eğitim ve %12.5 doğrulama olarak ayır\n",
        "x_train, x_val, y_train, y_val = train_test_split(x_train_full, y_train_full, test_size=0.125, random_state=42)\n",
        "\n",
        "# Test setini ayır\n",
        "x_test, y_test = x_temp, y_temp\n",
        "\n",
        "# Veri setlerinin boyutlarını kontrol et\n",
        "print(f'Train set size: {len(x_train)}')\n",
        "print(f'Validation set size: {len(x_val)}')\n",
        "print(f'Test set size: {len(x_test)}')"
      ],
      "metadata": {
        "colab": {
          "base_uri": "https://localhost:8080/"
        },
        "id": "SENW3j3IvkaU",
        "outputId": "45b8bd1c-bcc3-4813-d0c8-2d982081c80e"
      },
      "execution_count": null,
      "outputs": [
        {
          "output_type": "stream",
          "name": "stdout",
          "text": [
            "Train set size: 5202\n",
            "Validation set size: 744\n",
            "Test set size: 1487\n"
          ]
        }
      ]
    },
    {
      "cell_type": "code",
      "source": [
        "y_test"
      ],
      "metadata": {
        "colab": {
          "base_uri": "https://localhost:8080/"
        },
        "id": "9-lpY3U1WYk-",
        "outputId": "95659197-2724-4b36-c976-8e6654c6b683"
      },
      "execution_count": null,
      "outputs": [
        {
          "output_type": "execute_result",
          "data": {
            "text/plain": [
              "array([2, 2, 5, ..., 3, 0, 4])"
            ]
          },
          "metadata": {},
          "execution_count": 15
        }
      ]
    },
    {
      "cell_type": "code",
      "source": [
        "x_train = x_train.astype(str)\n",
        "x_test = x_test.astype(str)\n",
        "x_val = x_val.astype(str)"
      ],
      "metadata": {
        "id": "wMnCVrXFvkcD"
      },
      "execution_count": null,
      "outputs": []
    },
    {
      "cell_type": "code",
      "source": [
        "import torch\n",
        "from transformers import BertTokenizer, BertModel\n",
        "import pickle\n",
        "\n",
        "# BERT tokenizer ve modeli yükle\n",
        "tokenizer = BertTokenizer.from_pretrained('bert-base-uncased')\n",
        "model = BertModel.from_pretrained('bert-base-uncased')"
      ],
      "metadata": {
        "id": "ePNMFi5kvwX6",
        "colab": {
          "base_uri": "https://localhost:8080/",
          "height": 316,
          "referenced_widgets": [
            "18aef0413329483aa23853b675829c84",
            "d53745edce3d4ae8a38b9ecf5b2316e3",
            "e7908b4b48534c0688f891d8a3834679",
            "f6efd24866b741389a3ed0a4b868975f",
            "4f8f92b5fbc1483196d47824d85097cd",
            "bae4f3f44bc14d12943000d1a60e2645",
            "536c68705a60435dbaad8c0741d9bc1e",
            "844e3ba70ae648379421f0af212988a6",
            "0a965b894f8a430ba3a12437b259b917",
            "37c5037e297c478b8022d3e478437c0e",
            "c9dd9d534962442cab59f92f95a1a4cf",
            "ef2cf48c73924d8ba5b3ea1fa6224851",
            "f8aecc6eda724fc1808a43d8b5128a50",
            "1aca3e8e860a4bdb969057e25852687d",
            "f67a07bb925544d1a8ece914db5bbd91",
            "eb5c67c402fd4407831322c395ca07ad",
            "d2149d1981514eae8fcc19fbc5c29894",
            "32a9ec17cb2a40f1b9371b3209cbf4d7",
            "5b311ada8dfa44de850be1f80ccb5f2f",
            "110d4ed5e9624b7a86fcba14766ad8d2",
            "5915d125519c43c5ab4a03913e32f0f5",
            "b8c19ffa2db241b9af48660e1be73fab",
            "aeebf792c5af457ab08f8d891feeb645",
            "5131bf622db84beaa27e03627132ce30",
            "ca9ece640d1c413b87f6d531eaf11b76",
            "e18398841f3b4f36b978a850a77aacbb",
            "68a4c685d8194858b80ce773b0eb89a0",
            "1885c350539349e3b95a83112302db48",
            "a4870dd0e44b4214a24c995ece23108f",
            "701400913209425eab814bf3c49aee24",
            "230be268e89b49b2a2b3036fd6dfe93b",
            "716e4420cb5d46c2b7289e08f2296e93",
            "d8d0f06684e2427cb28e6b56cd84630b",
            "35989d6f4a73406599740705d938a80d",
            "76eae2e968eb46dab115d68c9755aecd",
            "21bb83d55c4b45658d0a2f6d7b06ffd0",
            "7dfaa5c9c5724dd391d27d9882cd1b7a",
            "95fd834d5eec4046b35d3b96bc320a78",
            "bc0efe01a32843a48c807cce9e26fc90",
            "dcd33077623640cdbc27f3fe8230519f",
            "9df2f9dc1b55431e88f06c2086ad79c6",
            "8e66d0cfe03245b6a8ba498e0279be44",
            "05faca610d264aac875e81d17ca57331",
            "5bba9061ce664e87ac3b228391a62c3b",
            "407eb8460cb2426e8294bdefc6c794b8",
            "e30780407067463892f44b1daa1a9d48",
            "ea1bc508566f4a5fadc201b9471a21ff",
            "062e1283792340e48b825545ee02b26d",
            "31e85a88cc5843d6a162647d90b3c10f",
            "13587fb93c6c45cd853d6a0858810a60",
            "96ebf7bb7dbb4fa891f0f144422fb53d",
            "9ca7290fe8a743d598a64e26a93ca1cc",
            "549a6f36c6d4460e9cf8b0f965f2b5fe",
            "1852ba3e874e468bad2905e3800ea41a",
            "fb63f1cdfa8d4885b83a07426ead435c"
          ]
        },
        "outputId": "ef4fd590-aaa5-4f1d-a6f6-6293d3d74a4b"
      },
      "execution_count": null,
      "outputs": [
        {
          "output_type": "stream",
          "name": "stderr",
          "text": [
            "/usr/local/lib/python3.10/dist-packages/huggingface_hub/utils/_token.py:89: UserWarning: \n",
            "The secret `HF_TOKEN` does not exist in your Colab secrets.\n",
            "To authenticate with the Hugging Face Hub, create a token in your settings tab (https://huggingface.co/settings/tokens), set it as secret in your Google Colab and restart your session.\n",
            "You will be able to reuse this secret in all of your notebooks.\n",
            "Please note that authentication is recommended but still optional to access public models or datasets.\n",
            "  warnings.warn(\n"
          ]
        },
        {
          "output_type": "display_data",
          "data": {
            "text/plain": [
              "tokenizer_config.json:   0%|          | 0.00/48.0 [00:00<?, ?B/s]"
            ],
            "application/vnd.jupyter.widget-view+json": {
              "version_major": 2,
              "version_minor": 0,
              "model_id": "18aef0413329483aa23853b675829c84"
            }
          },
          "metadata": {}
        },
        {
          "output_type": "display_data",
          "data": {
            "text/plain": [
              "vocab.txt:   0%|          | 0.00/232k [00:00<?, ?B/s]"
            ],
            "application/vnd.jupyter.widget-view+json": {
              "version_major": 2,
              "version_minor": 0,
              "model_id": "ef2cf48c73924d8ba5b3ea1fa6224851"
            }
          },
          "metadata": {}
        },
        {
          "output_type": "display_data",
          "data": {
            "text/plain": [
              "tokenizer.json:   0%|          | 0.00/466k [00:00<?, ?B/s]"
            ],
            "application/vnd.jupyter.widget-view+json": {
              "version_major": 2,
              "version_minor": 0,
              "model_id": "aeebf792c5af457ab08f8d891feeb645"
            }
          },
          "metadata": {}
        },
        {
          "output_type": "stream",
          "name": "stderr",
          "text": [
            "/usr/local/lib/python3.10/dist-packages/huggingface_hub/file_download.py:1132: FutureWarning: `resume_download` is deprecated and will be removed in version 1.0.0. Downloads always resume when possible. If you want to force a new download, use `force_download=True`.\n",
            "  warnings.warn(\n"
          ]
        },
        {
          "output_type": "display_data",
          "data": {
            "text/plain": [
              "config.json:   0%|          | 0.00/570 [00:00<?, ?B/s]"
            ],
            "application/vnd.jupyter.widget-view+json": {
              "version_major": 2,
              "version_minor": 0,
              "model_id": "35989d6f4a73406599740705d938a80d"
            }
          },
          "metadata": {}
        },
        {
          "output_type": "display_data",
          "data": {
            "text/plain": [
              "model.safetensors:   0%|          | 0.00/440M [00:00<?, ?B/s]"
            ],
            "application/vnd.jupyter.widget-view+json": {
              "version_major": 2,
              "version_minor": 0,
              "model_id": "407eb8460cb2426e8294bdefc6c794b8"
            }
          },
          "metadata": {}
        }
      ]
    },
    {
      "cell_type": "code",
      "source": [
        "def prepare_data(data, max_len):\n",
        "  inputs_ = []\n",
        "  attention_mask = []\n",
        "  for tweet in data:\n",
        "    encoded_dict = tokenizer.encode_plus(\n",
        "      tweet, #tweet to encode = (tokenize + add special character)\n",
        "      add_special_tokens = True, # Add [CLS] for specify classification task and [SEP]\n",
        "      max_length = max_len,\n",
        "      pad_to_max_length  = True, #For pad & truncate all sentence\n",
        "      return_attention_mask = True, # For return attention masks\n",
        "      #return_tensors = 'pt' # Return pythorch tensors\n",
        "    )\n",
        "    # Select encoded sentence\n",
        "    inputs_.append(encoded_dict['input_ids'])\n",
        "\n",
        "    # Select attention masks\n",
        "    attention_mask.append(encoded_dict['attention_mask'])\n",
        "\n",
        "  # Convert the lists into tensors.\n",
        "  input_ids = torch.tensor(inputs_)\n",
        "  attention_masks = torch.tensor(attention_mask)\n",
        "\n",
        "  return input_ids, attention_masks"
      ],
      "metadata": {
        "id": "l9_6-bZdvwaH"
      },
      "execution_count": null,
      "outputs": []
    },
    {
      "cell_type": "code",
      "source": [
        "train_input_ids,train_mask  = prepare_data(x_train, 128)\n",
        "test_input_ids,test_mask  = prepare_data(x_test, 128)\n",
        "val_input_ids,val_mask  = prepare_data(x_val, 128)"
      ],
      "metadata": {
        "id": "-hcUVEPavwcY",
        "colab": {
          "base_uri": "https://localhost:8080/"
        },
        "outputId": "7b54a2e1-ab80-4e9a-ad43-132fe8e4d225"
      },
      "execution_count": null,
      "outputs": [
        {
          "output_type": "stream",
          "name": "stderr",
          "text": [
            "Truncation was not explicitly activated but `max_length` is provided a specific value, please use `truncation=True` to explicitly truncate examples to max length. Defaulting to 'longest_first' truncation strategy. If you encode pairs of sequences (GLUE-style) with the tokenizer you can select this strategy more precisely by providing a specific strategy to `truncation`.\n",
            "/usr/local/lib/python3.10/dist-packages/transformers/tokenization_utils_base.py:2699: FutureWarning: The `pad_to_max_length` argument is deprecated and will be removed in a future version, use `padding=True` or `padding='longest'` to pad to the longest sequence in the batch, or use `padding='max_length'` to pad to a max length. In this case, you can give a specific length with `max_length` (e.g. `max_length=45`) or leave max_length to None to pad to the maximal input size of the model (e.g. 512 for Bert).\n",
            "  warnings.warn(\n"
          ]
        }
      ]
    },
    {
      "cell_type": "code",
      "source": [
        "data = {\n",
        "    'features': train_input_ids,\n",
        "    'masks': train_mask,\n",
        "    'labels':y_train\n",
        "}\n",
        "\n",
        "\n",
        "# Verileri pickle formatında kaydetme\n",
        "with open(\"iemocap_bert_train.pkl\", 'wb') as f:\n",
        "    pickle.dump(data, f)"
      ],
      "metadata": {
        "id": "-69yJiULv2PJ"
      },
      "execution_count": null,
      "outputs": []
    },
    {
      "cell_type": "code",
      "source": [
        "data = {\n",
        "    'features': test_input_ids,\n",
        "    'masks': test_mask,\n",
        "    'labels': y_test\n",
        "\n",
        "}\n",
        "# Verileri pickle formatında kaydetme\n",
        "with open(\"iemocap_bert_test.pkl\", 'wb') as f:\n",
        "    pickle.dump(data, f)"
      ],
      "metadata": {
        "id": "eIz6eRE_v2RP"
      },
      "execution_count": null,
      "outputs": []
    },
    {
      "cell_type": "code",
      "source": [
        "data = {\n",
        "    'features': val_input_ids,\n",
        "    'masks': val_mask,\n",
        "    'labels': y_val\n",
        "\n",
        "}\n",
        "\n",
        "# Verileri pickle formatında kaydetme\n",
        "with open(\"iemocap_bert_val.pkl\", 'wb') as f:\n",
        "    pickle.dump(data, f)"
      ],
      "metadata": {
        "id": "-4f7qEAkv4i5"
      },
      "execution_count": null,
      "outputs": []
    },
    {
      "cell_type": "code",
      "source": [
        "with open('iemocap_bert_train.pkl', 'rb') as f:\n",
        "    train_data = pickle.load(f)"
      ],
      "metadata": {
        "id": "RtdUBxUHv4lN"
      },
      "execution_count": null,
      "outputs": []
    },
    {
      "cell_type": "code",
      "source": [
        "with open('iemocap_bert_test.pkl', 'rb') as f:\n",
        "    test_data = pickle.load(f)"
      ],
      "metadata": {
        "id": "VAw2KMcpy0n4"
      },
      "execution_count": null,
      "outputs": []
    },
    {
      "cell_type": "code",
      "source": [
        "with open('iemocap_bert_val.pkl', 'rb') as f:\n",
        "    val_data = pickle.load(f)"
      ],
      "metadata": {
        "id": "TzXMLpEEy0qg"
      },
      "execution_count": null,
      "outputs": []
    },
    {
      "cell_type": "code",
      "source": [
        "train_emb = torch.tensor(train_data['features'])\n",
        "train_mask = torch.tensor(train_data['masks'])\n",
        "train_label = torch.tensor(train_data['labels'])"
      ],
      "metadata": {
        "colab": {
          "base_uri": "https://localhost:8080/"
        },
        "id": "nz5-a4UfwyAl",
        "outputId": "360a63a6-a32a-43da-a835-d5df00e29981"
      },
      "execution_count": null,
      "outputs": [
        {
          "output_type": "stream",
          "name": "stderr",
          "text": [
            "<ipython-input-26-141be46c9775>:1: UserWarning: To copy construct from a tensor, it is recommended to use sourceTensor.clone().detach() or sourceTensor.clone().detach().requires_grad_(True), rather than torch.tensor(sourceTensor).\n",
            "  train_emb = torch.tensor(train_data['features'])\n",
            "<ipython-input-26-141be46c9775>:2: UserWarning: To copy construct from a tensor, it is recommended to use sourceTensor.clone().detach() or sourceTensor.clone().detach().requires_grad_(True), rather than torch.tensor(sourceTensor).\n",
            "  train_mask = torch.tensor(train_data['masks'])\n"
          ]
        }
      ]
    },
    {
      "cell_type": "code",
      "source": [
        "test_emb = torch.tensor(test_data['features'])\n",
        "test_mask = torch.tensor(test_data['masks'])\n",
        "test_label = torch.tensor(test_data['labels'])"
      ],
      "metadata": {
        "colab": {
          "base_uri": "https://localhost:8080/"
        },
        "id": "raoh9smp0lm5",
        "outputId": "45575ba9-2044-4ac1-f49a-d7dd3dca6b58"
      },
      "execution_count": null,
      "outputs": [
        {
          "output_type": "stream",
          "name": "stderr",
          "text": [
            "<ipython-input-27-185402516e12>:1: UserWarning: To copy construct from a tensor, it is recommended to use sourceTensor.clone().detach() or sourceTensor.clone().detach().requires_grad_(True), rather than torch.tensor(sourceTensor).\n",
            "  test_emb = torch.tensor(test_data['features'])\n",
            "<ipython-input-27-185402516e12>:2: UserWarning: To copy construct from a tensor, it is recommended to use sourceTensor.clone().detach() or sourceTensor.clone().detach().requires_grad_(True), rather than torch.tensor(sourceTensor).\n",
            "  test_mask = torch.tensor(test_data['masks'])\n"
          ]
        }
      ]
    },
    {
      "cell_type": "code",
      "source": [
        "val_emb = torch.tensor(val_data['features'])\n",
        "val_mask = torch.tensor(val_data['masks'])\n",
        "val_label = torch.tensor(val_data['labels'])"
      ],
      "metadata": {
        "colab": {
          "base_uri": "https://localhost:8080/"
        },
        "id": "Sz9eG1kq0sLP",
        "outputId": "6d166381-646c-4356-ac8d-8256d99acbd2"
      },
      "execution_count": null,
      "outputs": [
        {
          "output_type": "stream",
          "name": "stderr",
          "text": [
            "<ipython-input-28-84b047a61f12>:1: UserWarning: To copy construct from a tensor, it is recommended to use sourceTensor.clone().detach() or sourceTensor.clone().detach().requires_grad_(True), rather than torch.tensor(sourceTensor).\n",
            "  val_emb = torch.tensor(val_data['features'])\n",
            "<ipython-input-28-84b047a61f12>:2: UserWarning: To copy construct from a tensor, it is recommended to use sourceTensor.clone().detach() or sourceTensor.clone().detach().requires_grad_(True), rather than torch.tensor(sourceTensor).\n",
            "  val_mask = torch.tensor(val_data['masks'])\n"
          ]
        }
      ]
    },
    {
      "cell_type": "code",
      "source": [
        "train_dataset = TensorDataset(train_emb,train_mask, train_label)\n",
        "test_dataset = TensorDataset(test_emb, test_mask, test_label)\n",
        "val_dataset = TensorDataset(val_emb,val_mask, val_label)"
      ],
      "metadata": {
        "id": "hBI3zARaxPqU"
      },
      "execution_count": null,
      "outputs": []
    },
    {
      "cell_type": "code",
      "source": [
        "train_dataloader = DataLoader(train_dataset, batch_size=32, shuffle=True)\n",
        "test_dataloader = DataLoader(test_dataset, batch_size=32, shuffle=False)\n",
        "val_dataloader = DataLoader(val_dataset, batch_size=32, shuffle=False)"
      ],
      "metadata": {
        "id": "1DR8w1q90gEN"
      },
      "execution_count": null,
      "outputs": []
    },
    {
      "cell_type": "code",
      "source": [
        "device = torch.device(\"cuda\" if torch.cuda.is_available() else \"cpu\")"
      ],
      "metadata": {
        "id": "HgTwgUkk3Ler"
      },
      "execution_count": null,
      "outputs": []
    },
    {
      "cell_type": "code",
      "source": [
        "# Model ve tokenizer yükleyin\n",
        "tokenizer = BertTokenizer.from_pretrained('bert-base-uncased')\n",
        "model = BertForSequenceClassification.from_pretrained(\n",
        "    \"bert-base-uncased\",\n",
        "    num_labels = 6,\n",
        "    output_attentions = False,\n",
        "    output_hidden_states = False\n",
        ")"
      ],
      "metadata": {
        "colab": {
          "base_uri": "https://localhost:8080/"
        },
        "id": "chyX13V33FjU",
        "outputId": "1e6414b2-c368-4abd-9508-5f2eada5fa04"
      },
      "execution_count": null,
      "outputs": [
        {
          "output_type": "stream",
          "name": "stderr",
          "text": [
            "Some weights of BertForSequenceClassification were not initialized from the model checkpoint at bert-base-uncased and are newly initialized: ['classifier.bias', 'classifier.weight']\n",
            "You should probably TRAIN this model on a down-stream task to be able to use it for predictions and inference.\n"
          ]
        }
      ]
    },
    {
      "cell_type": "code",
      "source": [
        "model.to(device)"
      ],
      "metadata": {
        "colab": {
          "base_uri": "https://localhost:8080/"
        },
        "id": "7kUpPl5u2fd2",
        "outputId": "19af15cb-6722-4a93-c821-83a8e49080c1"
      },
      "execution_count": null,
      "outputs": [
        {
          "output_type": "execute_result",
          "data": {
            "text/plain": [
              "BertForSequenceClassification(\n",
              "  (bert): BertModel(\n",
              "    (embeddings): BertEmbeddings(\n",
              "      (word_embeddings): Embedding(30522, 768, padding_idx=0)\n",
              "      (position_embeddings): Embedding(512, 768)\n",
              "      (token_type_embeddings): Embedding(2, 768)\n",
              "      (LayerNorm): LayerNorm((768,), eps=1e-12, elementwise_affine=True)\n",
              "      (dropout): Dropout(p=0.1, inplace=False)\n",
              "    )\n",
              "    (encoder): BertEncoder(\n",
              "      (layer): ModuleList(\n",
              "        (0-11): 12 x BertLayer(\n",
              "          (attention): BertAttention(\n",
              "            (self): BertSdpaSelfAttention(\n",
              "              (query): Linear(in_features=768, out_features=768, bias=True)\n",
              "              (key): Linear(in_features=768, out_features=768, bias=True)\n",
              "              (value): Linear(in_features=768, out_features=768, bias=True)\n",
              "              (dropout): Dropout(p=0.1, inplace=False)\n",
              "            )\n",
              "            (output): BertSelfOutput(\n",
              "              (dense): Linear(in_features=768, out_features=768, bias=True)\n",
              "              (LayerNorm): LayerNorm((768,), eps=1e-12, elementwise_affine=True)\n",
              "              (dropout): Dropout(p=0.1, inplace=False)\n",
              "            )\n",
              "          )\n",
              "          (intermediate): BertIntermediate(\n",
              "            (dense): Linear(in_features=768, out_features=3072, bias=True)\n",
              "            (intermediate_act_fn): GELUActivation()\n",
              "          )\n",
              "          (output): BertOutput(\n",
              "            (dense): Linear(in_features=3072, out_features=768, bias=True)\n",
              "            (LayerNorm): LayerNorm((768,), eps=1e-12, elementwise_affine=True)\n",
              "            (dropout): Dropout(p=0.1, inplace=False)\n",
              "          )\n",
              "        )\n",
              "      )\n",
              "    )\n",
              "    (pooler): BertPooler(\n",
              "      (dense): Linear(in_features=768, out_features=768, bias=True)\n",
              "      (activation): Tanh()\n",
              "    )\n",
              "  )\n",
              "  (dropout): Dropout(p=0.1, inplace=False)\n",
              "  (classifier): Linear(in_features=768, out_features=6, bias=True)\n",
              ")"
            ]
          },
          "metadata": {},
          "execution_count": 33
        }
      ]
    },
    {
      "cell_type": "code",
      "source": [
        "optimizer = AdamW(model.parameters(),\n",
        "                  lr = 2e-5,\n",
        "                  eps = 1e-8\n",
        "                )"
      ],
      "metadata": {
        "colab": {
          "base_uri": "https://localhost:8080/"
        },
        "id": "npWC4RBu6DSf",
        "outputId": "a3c2e3f0-bb13-4cd1-a0b2-028d85da7624"
      },
      "execution_count": null,
      "outputs": [
        {
          "output_type": "stream",
          "name": "stderr",
          "text": [
            "/usr/local/lib/python3.10/dist-packages/transformers/optimization.py:588: FutureWarning: This implementation of AdamW is deprecated and will be removed in a future version. Use the PyTorch implementation torch.optim.AdamW instead, or set `no_deprecation_warning=True` to disable this warning\n",
            "  warnings.warn(\n"
          ]
        }
      ]
    },
    {
      "cell_type": "code",
      "source": [
        "epochs = 20\n",
        "# Total number of training steps is [number of batches] x [number of epochs].\n",
        "# (Note that this is not the same as the number of training samples).\n",
        "total_steps = len(train_dataloader) * epochs\n",
        "\n",
        "# Create the learning rate scheduler.\n",
        "scheduler = get_linear_schedule_with_warmup(optimizer,\n",
        "                                            num_warmup_steps = 0,\n",
        "                                            num_training_steps = total_steps)"
      ],
      "metadata": {
        "id": "Cof0pTCf6DUu"
      },
      "execution_count": null,
      "outputs": []
    },
    {
      "cell_type": "code",
      "source": [
        "# Function to calculate the accuracy of our predictions vs labels\n",
        "def accuracy(preds, labels):\n",
        "    pred_flat = np.argmax(preds, axis=1).flatten()\n",
        "    labels_flat = labels.flatten()\n",
        "    return np.sum(pred_flat == labels_flat) / len(labels_flat)"
      ],
      "metadata": {
        "id": "Ss7TMZom9Evo"
      },
      "execution_count": null,
      "outputs": []
    },
    {
      "cell_type": "code",
      "source": [
        "import numpy as np\n",
        "\n",
        "# Number of successive epochs to observe for early stopping\n",
        "patience = 3\n",
        "\n",
        "# Initialize the early stopping counter\n",
        "early_stopping_counter = 0\n",
        "\n",
        "# Initial best validation loss; set it to positive infinity so that\n",
        "# the first validation loss will be lower and will update this value\n",
        "best_val_loss = np.Inf\n",
        "\n",
        "# List to store training statistics\n",
        "training_stats = []\n",
        "\n",
        "# Start training loop\n",
        "for epoch_i in range(epochs):\n",
        "    print(\"\")\n",
        "    print('======== Epoch {:} / {:} ========'.format(epoch_i + 1, epochs))\n",
        "    print('Training...')\n",
        "\n",
        "    # Reset the total loss for this epoch.\n",
        "    total_train_loss = 0\n",
        "\n",
        "    model.train()\n",
        "\n",
        "    # For each batch of training data\n",
        "    for step, batch in enumerate(train_dataloader):\n",
        "        b_input_ids = batch[0].to(device)\n",
        "        b_input_mask = batch[1].to(device)\n",
        "        b_labels = batch[2].to(device)\n",
        "\n",
        "        # Clear any previously calculated gradients\n",
        "        model.zero_grad()\n",
        "\n",
        "        # Forward pass\n",
        "        outputs = model(b_input_ids,\n",
        "                        token_type_ids=None,\n",
        "                        attention_mask=b_input_mask,\n",
        "                        labels=b_labels)\n",
        "\n",
        "        loss = outputs.loss\n",
        "\n",
        "        # Accumulate the training loss\n",
        "        total_train_loss += loss.item()\n",
        "\n",
        "        # Backward pass\n",
        "        loss.backward()\n",
        "\n",
        "        # Clip gradients to prevent explosion\n",
        "        torch.nn.utils.clip_grad_norm_(model.parameters(), 1.0)\n",
        "\n",
        "        # Update parameters\n",
        "        optimizer.step()\n",
        "\n",
        "        # Update the learning rate\n",
        "        scheduler.step()\n",
        "\n",
        "    # Calculate the average training loss\n",
        "    avg_train_loss = total_train_loss / len(train_dataloader)\n",
        "    print(\"\\n \\t Average training loss: {0:.2f}\".format(avg_train_loss))\n",
        "\n",
        "\n",
        "    # ========================================\n",
        "    #            Validation Phase\n",
        "    # ========================================\n",
        "    print(\"\\nValidation...\")\n",
        "\n",
        "    # Put the model in evaluation mode\n",
        "    model.eval()\n",
        "\n",
        "    # Tracking variables\n",
        "    total_eval_accuracy = 0\n",
        "    total_eval_loss = 0\n",
        "\n",
        "    # Evaluate data for one epoch\n",
        "    for batch in val_dataloader:\n",
        "        b_input_ids = batch[0].to(device)\n",
        "        b_input_mask = batch[1].to(device)\n",
        "        b_labels = batch[2].to(device)\n",
        "\n",
        "        with torch.no_grad():\n",
        "            outputs = model(b_input_ids,\n",
        "                            token_type_ids=None,\n",
        "                            attention_mask=b_input_mask,\n",
        "                            labels=b_labels)\n",
        "\n",
        "            loss = outputs.loss\n",
        "            logits = outputs.logits\n",
        "\n",
        "        # Accumulate the validation loss\n",
        "        total_eval_loss += loss.item()\n",
        "\n",
        "        # Move logits and labels to CPU\n",
        "        logits = logits.detach().cpu().numpy()\n",
        "        label_ids = b_labels.to('cpu').numpy()\n",
        "\n",
        "        # Calculate accuracy for this batch\n",
        "        total_eval_accuracy += accuracy(logits, label_ids)\n",
        "\n",
        "    # Calculate the average validation loss and accuracy\n",
        "    avg_val_accuracy = total_eval_accuracy / len(val_dataloader)\n",
        "    print(\"  Accuracy: {0:.2f}\".format(avg_val_accuracy))\n",
        "\n",
        "    avg_val_loss = total_eval_loss / len(val_dataloader)\n",
        "    print(\"  Validation Loss: {0:.2f}\".format(avg_val_loss))\n",
        "\n",
        "    # Record statistics for this epoch\n",
        "    training_stats.append(\n",
        "        {\n",
        "            'epoch': epoch_i + 1,\n",
        "            'Training Loss': avg_train_loss,\n",
        "            'Valid. Loss': avg_val_loss,\n",
        "            'Valid. Accur.': avg_val_accuracy\n",
        "        }\n",
        "    )\n",
        "\n",
        "    # Check if the validation loss is decreasing\n",
        "    if avg_val_loss < best_val_loss:\n",
        "        best_val_loss = avg_val_loss\n",
        "        early_stopping_counter = 0  # Reset early stopping counter\n",
        "    else:\n",
        "        early_stopping_counter += 1  # Increment early stopping counter\n",
        "\n",
        "    # If validation loss hasn't improved for 'patience' epochs, stop training\n",
        "    if early_stopping_counter >= patience:\n",
        "        print(\"Early stopping triggered. No improvement in validation loss.\")\n",
        "        break\n"
      ],
      "metadata": {
        "colab": {
          "base_uri": "https://localhost:8080/"
        },
        "id": "MLnYn5_M7OE_",
        "outputId": "6bbc9ce1-fcc6-494b-82d2-6524d9cf9fb7"
      },
      "execution_count": null,
      "outputs": [
        {
          "output_type": "stream",
          "name": "stdout",
          "text": [
            "\n",
            "======== Epoch 1 / 20 ========\n",
            "Training...\n",
            "\n",
            " \t Average training loss: 1.58\n",
            "\n",
            "Validation...\n",
            "  Accuracy: 0.45\n",
            "  Validation Loss: 1.38\n",
            "\n",
            "======== Epoch 2 / 20 ========\n",
            "Training...\n",
            "\n",
            " \t Average training loss: 1.20\n",
            "\n",
            "Validation...\n",
            "  Accuracy: 0.54\n",
            "  Validation Loss: 1.20\n",
            "\n",
            "======== Epoch 3 / 20 ========\n",
            "Training...\n",
            "\n",
            " \t Average training loss: 0.93\n",
            "\n",
            "Validation...\n",
            "  Accuracy: 0.54\n",
            "  Validation Loss: 1.19\n",
            "\n",
            "======== Epoch 4 / 20 ========\n",
            "Training...\n",
            "\n",
            " \t Average training loss: 0.73\n",
            "\n",
            "Validation...\n",
            "  Accuracy: 0.54\n",
            "  Validation Loss: 1.26\n",
            "\n",
            "======== Epoch 5 / 20 ========\n",
            "Training...\n",
            "\n",
            " \t Average training loss: 0.59\n",
            "\n",
            "Validation...\n",
            "  Accuracy: 0.54\n",
            "  Validation Loss: 1.31\n",
            "\n",
            "======== Epoch 6 / 20 ========\n",
            "Training...\n",
            "\n",
            " \t Average training loss: 0.48\n",
            "\n",
            "Validation...\n",
            "  Accuracy: 0.55\n",
            "  Validation Loss: 1.42\n",
            "Early stopping triggered. No improvement in validation loss.\n"
          ]
        }
      ]
    },
    {
      "cell_type": "code",
      "source": [
        "# Put model in evaluation mode\n",
        "model.eval()\n",
        "\n",
        "# Tracking variables\n",
        "predictions , true_labels = [], []\n",
        "\n",
        "# Predict\n",
        "for batch in test_dataloader:\n",
        "  # Add batch to GPU\n",
        "  batch = tuple(t.to(device) for t in batch)\n",
        "\n",
        "  # Unpack the inputs from our dataloader\n",
        "  b_input_ids, b_input_mask, b_labels = batch\n",
        "\n",
        "  # Telling the model not to compute or store gradients, saving memory and\n",
        "  # speeding up prediction\n",
        "  with torch.no_grad():\n",
        "      # Forward pass, calculate logit predictions\n",
        "      outputs = model(b_input_ids, token_type_ids=None,\n",
        "                      attention_mask=b_input_mask)\n",
        "\n",
        "  logits = outputs[0]\n",
        "\n",
        "  # Move logits and labels to CPU\n",
        "  logits = logits.detach().cpu().numpy()\n",
        "  label_ids = b_labels.to('cpu').numpy()\n",
        "  prediction = np.argmax(logits, axis=1)\n",
        "\n",
        "  # Store predictions and true labels\n",
        "  for i in prediction:\n",
        "    predictions.append(i)\n",
        "  for i in label_ids:\n",
        "    true_labels.append(i)"
      ],
      "metadata": {
        "id": "5FFCkZbS7O0W"
      },
      "execution_count": null,
      "outputs": []
    },
    {
      "cell_type": "code",
      "source": [
        "def model_evaluation(real_v, pred_v):\n",
        "    print(f\"Accuracy sore: {accuracy_score(real_v, pred_v)}\")\n",
        "    print(\"Classification report:\")\n",
        "    print(classification_report(real_v, pred_v))\n",
        "    cm = confusion_matrix(real_v, pred_v)\n",
        "    print (f\"Confusion matrix \\n {cm}\")\n",
        "    return cm"
      ],
      "metadata": {
        "id": "ce0YEPtN7aJy"
      },
      "execution_count": null,
      "outputs": []
    },
    {
      "cell_type": "code",
      "source": [
        "cm = model_evaluation(true_labels, predictions)"
      ],
      "metadata": {
        "colab": {
          "base_uri": "https://localhost:8080/"
        },
        "id": "Gkd8vHy27cBv",
        "outputId": "b5cdeb14-4a04-4bb0-9b33-6d3d03672470"
      },
      "execution_count": null,
      "outputs": [
        {
          "output_type": "stream",
          "name": "stdout",
          "text": [
            "Accuracy sore: 0.5870880968392737\n",
            "Classification report:\n",
            "              precision    recall  f1-score   support\n",
            "\n",
            "           0       0.62      0.59      0.60       221\n",
            "           1       0.66      0.53      0.59       217\n",
            "           2       0.57      0.60      0.58       386\n",
            "           3       0.49      0.43      0.46       109\n",
            "           4       0.56      0.62      0.59       355\n",
            "           5       0.63      0.65      0.64       199\n",
            "\n",
            "    accuracy                           0.59      1487\n",
            "   macro avg       0.59      0.57      0.58      1487\n",
            "weighted avg       0.59      0.59      0.59      1487\n",
            "\n",
            "Confusion matrix \n",
            " [[130   5  66   0  14   6]\n",
            " [  7 116  13  31  42   8]\n",
            " [ 56   8 231   2  64  25]\n",
            " [  5  21   7  47  23   6]\n",
            " [ 12  22  61   9 220  31]\n",
            " [  1   4  27   7  31 129]]\n"
          ]
        }
      ]
    },
    {
      "cell_type": "code",
      "source": [
        "from sklearn.metrics import confusion_matrix, ConfusionMatrixDisplay\n",
        "import matplotlib.pyplot as plt\n",
        "cm = confusion_matrix(true_labels, predictions)\n",
        "\n",
        "labels = encoder.inverse_transform(np.arange(6))\n",
        "disp = ConfusionMatrixDisplay(confusion_matrix=cm, display_labels = labels)\n",
        "disp.plot(cmap=plt.cm.Blues)\n",
        "plt.show()"
      ],
      "metadata": {
        "colab": {
          "base_uri": "https://localhost:8080/",
          "height": 449
        },
        "id": "ewA96AE6VZlq",
        "outputId": "74f5d166-071f-4556-ee25-aedfdf07019f"
      },
      "execution_count": null,
      "outputs": [
        {
          "output_type": "display_data",
          "data": {
            "text/plain": [
              "<Figure size 640x480 with 2 Axes>"
            ],
            "image/png": "[encoded data removed]"
          },
          "metadata": {}
        }
      ]
    },
    {
      "cell_type": "code",
      "source": [
        "encoder"
      ],
      "metadata": {
        "colab": {
          "base_uri": "https://localhost:8080/",
          "height": 75
        },
        "id": "wbhRpvv5ZCk3",
        "outputId": "fb6f22d5-bfea-4886-beff-db9a9cab40ee"
      },
      "execution_count": null,
      "outputs": [
        {
          "output_type": "execute_result",
          "data": {
            "text/plain": [
              "LabelEncoder()"
            ],
            "text/html": [
              "<style>#sk-container-id-1 {color: black;background-color: white;}#sk-container-id-1 pre{padding: 0;}#sk-container-id-1 div.sk-toggleable {background-color: white;}#sk-container-id-1 label.sk-toggleable__label {cursor: pointer;display: block;width: 100%;margin-bottom: 0;padding: 0.3em;box-sizing: border-box;text-align: center;}#sk-container-id-1 label.sk-toggleable__label-arrow:before {content: \"▸\";float: left;margin-right: 0.25em;color: #696969;}#sk-container-id-1 label.sk-toggleable__label-arrow:hover:before {color: black;}#sk-container-id-1 div.sk-estimator:hover label.sk-toggleable__label-arrow:before {color: black;}#sk-container-id-1 div.sk-toggleable__content {max-height: 0;max-width: 0;overflow: hidden;text-align: left;background-color: #f0f8ff;}#sk-container-id-1 div.sk-toggleable__content pre {margin: 0.2em;color: black;border-radius: 0.25em;background-color: #f0f8ff;}#sk-container-id-1 input.sk-toggleable__control:checked~div.sk-toggleable__content {max-height: 200px;max-width: 100%;overflow: auto;}#sk-container-id-1 input.sk-toggleable__control:checked~label.sk-toggleable__label-arrow:before {content: \"▾\";}#sk-container-id-1 div.sk-estimator input.sk-toggleable__control:checked~label.sk-toggleable__label {background-color: #d4ebff;}#sk-container-id-1 div.sk-label input.sk-toggleable__control:checked~label.sk-toggleable__label {background-color: #d4ebff;}#sk-container-id-1 input.sk-hidden--visually {border: 0;clip: rect(1px 1px 1px 1px);clip: rect(1px, 1px, 1px, 1px);height: 1px;margin: -1px;overflow: hidden;padding: 0;position: absolute;width: 1px;}#sk-container-id-1 div.sk-estimator {font-family: monospace;background-color: #f0f8ff;border: 1px dotted black;border-radius: 0.25em;box-sizing: border-box;margin-bottom: 0.5em;}#sk-container-id-1 div.sk-estimator:hover {background-color: #d4ebff;}#sk-container-id-1 div.sk-parallel-item::after {content: \"\";width: 100%;border-bottom: 1px solid gray;flex-grow: 1;}#sk-container-id-1 div.sk-label:hover label.sk-toggleable__label {background-color: #d4ebff;}#sk-container-id-1 div.sk-serial::before {content: \"\";position: absolute;border-left: 1px solid gray;box-sizing: border-box;top: 0;bottom: 0;left: 50%;z-index: 0;}#sk-container-id-1 div.sk-serial {display: flex;flex-direction: column;align-items: center;background-color: white;padding-right: 0.2em;padding-left: 0.2em;position: relative;}#sk-container-id-1 div.sk-item {position: relative;z-index: 1;}#sk-container-id-1 div.sk-parallel {display: flex;align-items: stretch;justify-content: center;background-color: white;position: relative;}#sk-container-id-1 div.sk-item::before, #sk-container-id-1 div.sk-parallel-item::before {content: \"\";position: absolute;border-left: 1px solid gray;box-sizing: border-box;top: 0;bottom: 0;left: 50%;z-index: -1;}#sk-container-id-1 div.sk-parallel-item {display: flex;flex-direction: column;z-index: 1;position: relative;background-color: white;}#sk-container-id-1 div.sk-parallel-item:first-child::after {align-self: flex-end;width: 50%;}#sk-container-id-1 div.sk-parallel-item:last-child::after {align-self: flex-start;width: 50%;}#sk-container-id-1 div.sk-parallel-item:only-child::after {width: 0;}#sk-container-id-1 div.sk-dashed-wrapped {border: 1px dashed gray;margin: 0 0.4em 0.5em 0.4em;box-sizing: border-box;padding-bottom: 0.4em;background-color: white;}#sk-container-id-1 div.sk-label label {font-family: monospace;font-weight: bold;display: inline-block;line-height: 1.2em;}#sk-container-id-1 div.sk-label-container {text-align: center;}#sk-container-id-1 div.sk-container {/* jupyter's `normalize.less` sets `[hidden] { display: none; }` but bootstrap.min.css set `[hidden] { display: none !important; }` so we also need the `!important` here to be able to override the default hidden behavior on the sphinx rendered scikit-learn.org. See: https://github.com/scikit-learn/scikit-learn/issues/21755 */display: inline-block !important;position: relative;}#sk-container-id-1 div.sk-text-repr-fallback {display: none;}</style><div id=\"sk-container-id-1\" class=\"sk-top-container\"><div class=\"sk-text-repr-fallback\"><pre>LabelEncoder()</pre><b>In a Jupyter environment, please rerun this cell to show the HTML representation or trust the notebook. <br />On GitHub, the HTML representation is unable to render, please try loading this page with nbviewer.org.</b></div><div class=\"sk-container\" hidden><div class=\"sk-item\"><div class=\"sk-estimator sk-toggleable\"><input class=\"sk-toggleable__control sk-hidden--visually\" id=\"sk-estimator-id-1\" type=\"checkbox\" checked><label for=\"sk-estimator-id-1\" class=\"sk-toggleable__label sk-toggleable__label-arrow\">LabelEncoder</label><div class=\"sk-toggleable__content\"><pre>LabelEncoder()</pre></div></div></div></div></div>"
            ]
          },
          "metadata": {},
          "execution_count": 45
        }
      ]
    },
    {
      "cell_type": "code",
      "source": [
        "labels"
      ],
      "metadata": {
        "colab": {
          "base_uri": "https://localhost:8080/"
        },
        "id": "SU60pdNVZAWJ",
        "outputId": "63133fb1-d406-4927-ddd2-e90ba6cac15b"
      },
      "execution_count": null,
      "outputs": [
        {
          "output_type": "execute_result",
          "data": {
            "text/plain": [
              "array(['ang', 'exc', 'fru', 'hap', 'neu', 'sad'], dtype='<U3')"
            ]
          },
          "metadata": {},
          "execution_count": 44
        }
      ]
    },
    {
      "cell_type": "code",
      "source": [
        "from sklearn.metrics import confusion_matrix\n",
        "import seaborn as sns\n",
        "import matplotlib.pyplot as plt\n",
        "\n",
        "\n",
        "# Büyük boyutlu bir figür oluşturun\n",
        "plt.figure(figsize=(12, 12))\n",
        "\n",
        "# Isı haritasını çizin\n",
        "ax = plt.subplot()\n",
        "\n",
        "sns.heatmap(cm, annot=True, fmt='g', ax=ax);  #annot=True to annotate cells, ftm='g' to disable scientific notation\n",
        "\n",
        "# labels, title and ticks\n",
        "ax.set_xlabel('Predicted labels');ax.set_ylabel('True labels');\n",
        "ax.set_title('Confusion Matrix');"
      ],
      "metadata": {
        "colab": {
          "base_uri": "https://localhost:8080/",
          "height": 1000
        },
        "id": "--MiDSXb7dB_",
        "outputId": "e9f20beb-40c4-4244-a3f7-ac3fcc659881"
      },
      "execution_count": null,
      "outputs": [
        {
          "output_type": "display_data",
          "data": {
            "text/plain": [
              "<Figure size 1200x1200 with 2 Axes>"
            ],
            "image/png": "[encoded data removed]"
          },
          "metadata": {}
        }
      ]
    },
    {
      "cell_type": "code",
      "source": [],
      "metadata": {
        "id": "Vl_om3ll7erC"
      },
      "execution_count": null,
      "outputs": []
    }
  ]
}
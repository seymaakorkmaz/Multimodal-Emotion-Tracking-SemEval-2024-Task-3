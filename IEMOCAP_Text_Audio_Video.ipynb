{
  "nbformat": 4,
  "nbformat_minor": 0,
  "metadata": {
    "colab": {
      "provenance": []
    },
    "kernelspec": {
      "name": "python3",
      "display_name": "Python 3"
    },
    "language_info": {
      "name": "python"
    }
  },
  "cells": [
    {
      "cell_type": "code",
      "execution_count": null,
      "metadata": {
        "id": "eijQ49G30yIg"
      },
      "outputs": [],
      "source": [
        "import pandas as pd\n",
        "import numpy as np\n",
        "from sklearn.preprocessing import LabelEncoder\n",
        "from sklearn.model_selection import train_test_split\n",
        "from transformers import BertTokenizer, BertForSequenceClassification, AdamW, BertConfig, get_linear_schedule_with_warmup\n",
        "import matplotlib as plt\n",
        "import torch\n",
        "from torch.utils.data import DataLoader, RandomSampler, SequentialSampler, TensorDataset\n",
        "from sklearn.metrics import *\n",
        "from sklearn.metrics import matthews_corrcoef\n",
        "import tensorflow as tf\n",
        "from tensorflow.keras.preprocessing.text import Tokenizer\n",
        "from tensorflow.keras.preprocessing.sequence import pad_sequences\n",
        "from tensorflow.keras.models import Sequential\n",
        "from tensorflow.keras.layers import Embedding, Bidirectional, LSTM, Dense"
      ]
    },
    {
      "cell_type": "code",
      "source": [
        "import pickle\n",
        "import pandas as pd\n",
        "from sklearn.preprocessing import LabelEncoder"
      ],
      "metadata": {
        "id": "vBXGwQVZLQih"
      },
      "execution_count": null,
      "outputs": []
    },
    {
      "cell_type": "code",
      "source": [
        "from google.colab import drive\n",
        "drive.mount('/content/drive')"
      ],
      "metadata": {
        "colab": {
          "base_uri": "https://localhost:8080/"
        },
        "id": "dhuI0P8u01kC",
        "outputId": "39f41f63-966c-486f-ebc2-e9f673b9e523"
      },
      "execution_count": null,
      "outputs": [
        {
          "output_type": "stream",
          "name": "stdout",
          "text": [
            "Mounted at /content/drive\n"
          ]
        }
      ]
    },
    {
      "cell_type": "code",
      "source": [
        "audio_features = pd.read_pickle(\"/content/drive/MyDrive/Multimodal Emotion Tracking/IEMOCAP ICON Features/audio/IEMOCAP_audio_features.pickle\")"
      ],
      "metadata": {
        "id": "IdRk85S7LPqZ"
      },
      "execution_count": null,
      "outputs": []
    },
    {
      "cell_type": "code",
      "source": [
        "video_features = pd.read_pickle(\"/content/drive/MyDrive/Multimodal Emotion Tracking/IEMOCAP ICON Features/video/IEMOCAP_video_features.pickle\")"
      ],
      "metadata": {
        "id": "PNeqNqCpQPza"
      },
      "execution_count": null,
      "outputs": []
    },
    {
      "cell_type": "code",
      "source": [
        "trainId = pd.read_pickle(\"/content/drive/MyDrive/Multimodal Emotion Tracking/IEMOCAP ICON Features/trainID.pkl\")"
      ],
      "metadata": {
        "id": "W8oVPvnQONZu"
      },
      "execution_count": null,
      "outputs": []
    },
    {
      "cell_type": "code",
      "source": [
        "testId = pd.read_pickle(\"/content/drive/MyDrive/Multimodal Emotion Tracking/IEMOCAP ICON Features/testID.pkl\")"
      ],
      "metadata": {
        "id": "eraT1ScHONfC"
      },
      "execution_count": null,
      "outputs": []
    },
    {
      "cell_type": "code",
      "source": [
        "dataset = pd.read_pickle(\"/content/drive/MyDrive/Multimodal Emotion Tracking/IEMOCAP ICON Features/dataset.pkl\")"
      ],
      "metadata": {
        "id": "5GqOM2McONga"
      },
      "execution_count": null,
      "outputs": []
    },
    {
      "cell_type": "code",
      "source": [
        "X_train = []\n",
        "y_train = []\n",
        "for i in trainId:\n",
        "  X_train.append(audio_features[i])\n",
        "  y_train.append(dataset[1][i])\n",
        "\n",
        "print(len(X_train), len(y_train))"
      ],
      "metadata": {
        "colab": {
          "base_uri": "https://localhost:8080/"
        },
        "id": "9ceXodDUOm6F",
        "outputId": "7112ef03-f3b1-4733-d268-b00ad49f9061"
      },
      "execution_count": null,
      "outputs": [
        {
          "output_type": "stream",
          "name": "stdout",
          "text": [
            "5810 5810\n"
          ]
        }
      ]
    },
    {
      "cell_type": "code",
      "source": [
        "X_test = []\n",
        "y_test = []\n",
        "for i in testId:\n",
        "  X_test.append(audio_features[i])\n",
        "  y_test.append(dataset[1][i])\n",
        "\n",
        "print(len(X_test), len(y_test))"
      ],
      "metadata": {
        "colab": {
          "base_uri": "https://localhost:8080/"
        },
        "id": "EDad4xTbOm8h",
        "outputId": "ded10d2f-25ce-4338-b56c-9c55f3b3ad12"
      },
      "execution_count": null,
      "outputs": [
        {
          "output_type": "stream",
          "name": "stdout",
          "text": [
            "1623 1623\n"
          ]
        }
      ]
    },
    {
      "cell_type": "code",
      "source": [
        "X = np.concatenate((X_train, X_test), axis=0)"
      ],
      "metadata": {
        "id": "4SiPx2NmOnA4"
      },
      "execution_count": null,
      "outputs": []
    },
    {
      "cell_type": "code",
      "source": [
        "y = np.concatenate((y_train, y_test), axis=0)"
      ],
      "metadata": {
        "id": "IvC-twGXPuOq"
      },
      "execution_count": null,
      "outputs": []
    },
    {
      "cell_type": "code",
      "source": [
        "from sklearn.model_selection import train_test_split\n",
        "\n",
        "# Veriyi %80 eğitim ve %20 doğrulama/test olarak ayır\n",
        "x_train_full, x_temp, y_train_full, y_temp = train_test_split(X, y, test_size=0.2, random_state=42)\n",
        "\n",
        "# Eğitim setini %87.5 eğitim ve %12.5 doğrulama olarak ayır\n",
        "x_train_audio, x_val_audio, y_train_audio, y_val_audio = train_test_split(x_train_full, y_train_full, test_size=0.125, random_state=42)\n",
        "\n",
        "# Test setini ayır\n",
        "x_test_audio, y_test_audio = x_temp, y_temp\n",
        "\n",
        "# Veri setlerinin boyutlarını kontrol et\n",
        "print(f'Train set size: {len(x_train_audio)}')\n",
        "print(f'Validation set size: {len(x_val_audio)}')\n",
        "print(f'Test set size: {len(x_test_audio)}')"
      ],
      "metadata": {
        "colab": {
          "base_uri": "https://localhost:8080/"
        },
        "id": "IDNUaniGPxFa",
        "outputId": "64d6a105-b8df-485d-a92a-9c0fcc6e00c4"
      },
      "execution_count": null,
      "outputs": [
        {
          "output_type": "stream",
          "name": "stdout",
          "text": [
            "Train set size: 5194\n",
            "Validation set size: 743\n",
            "Test set size: 1485\n"
          ]
        }
      ]
    },
    {
      "cell_type": "code",
      "source": [
        "X_train = []\n",
        "y_train = []\n",
        "for i in trainId:\n",
        "  X_train.append(video_features[i])\n",
        "  y_train.append(dataset[1][i])\n",
        "\n",
        "print(len(X_train), len(y_train))"
      ],
      "metadata": {
        "id": "3GhrH-FuRemB",
        "colab": {
          "base_uri": "https://localhost:8080/"
        },
        "outputId": "f9b79cdb-b7f4-44d7-9e70-0b8ce55360d4"
      },
      "execution_count": null,
      "outputs": [
        {
          "output_type": "stream",
          "name": "stdout",
          "text": [
            "5810 5810\n"
          ]
        }
      ]
    },
    {
      "cell_type": "code",
      "source": [
        "X_test = []\n",
        "y_test = []\n",
        "for i in testId:\n",
        "  X_test.append(video_features[i])\n",
        "  y_test.append(dataset[1][i])\n",
        "\n",
        "print(len(X_test), len(y_test))"
      ],
      "metadata": {
        "id": "qG8c1MELRfr8",
        "colab": {
          "base_uri": "https://localhost:8080/"
        },
        "outputId": "59f7cb2a-2d9e-462d-80e9-0b39e94bd981"
      },
      "execution_count": null,
      "outputs": [
        {
          "output_type": "stream",
          "name": "stdout",
          "text": [
            "1623 1623\n"
          ]
        }
      ]
    },
    {
      "cell_type": "code",
      "source": [
        "X = np.concatenate((X_train, X_test), axis=0)\n",
        "y = np.concatenate((y_train, y_test), axis=0)"
      ],
      "metadata": {
        "id": "rIXKrrenTJPw"
      },
      "execution_count": null,
      "outputs": []
    },
    {
      "cell_type": "code",
      "source": [
        "from sklearn.model_selection import train_test_split\n",
        "\n",
        "# Veriyi %80 eğitim ve %20 doğrulama/test olarak ayır\n",
        "x_train_full, x_temp, y_train_full, y_temp = train_test_split(X, y, test_size=0.2, random_state=42)\n",
        "\n",
        "# Eğitim setini %87.5 eğitim ve %12.5 doğrulama olarak ayır\n",
        "x_train_video, x_val_video, y_train_video, y_val_video = train_test_split(x_train_full, y_train_full, test_size=0.125, random_state=42)\n",
        "\n",
        "# Test setini ayır\n",
        "x_test_video, y_test_video = x_temp, y_temp\n",
        "\n",
        "# Veri setlerinin boyutlarını kontrol et\n",
        "print(f'Train set size: {len(x_train_video)}')\n",
        "print(f'Validation set size: {len(x_val_video)}')\n",
        "print(f'Test set size: {len(x_test_video)}')"
      ],
      "metadata": {
        "id": "XfGkZG_DRbib",
        "colab": {
          "base_uri": "https://localhost:8080/"
        },
        "outputId": "550d24a9-6936-49cf-818d-e5da245537ce"
      },
      "execution_count": null,
      "outputs": [
        {
          "output_type": "stream",
          "name": "stdout",
          "text": [
            "Train set size: 5194\n",
            "Validation set size: 743\n",
            "Test set size: 1485\n"
          ]
        }
      ]
    },
    {
      "cell_type": "code",
      "source": [
        "# Encoding target variable\n",
        "encoder = LabelEncoder()\n",
        "y_train_video = encoder.fit_transform(y_train_video)\n",
        "y_test_video = encoder.fit_transform(y_test_video)\n",
        "y_val_video = encoder.fit_transform(y_val_video)"
      ],
      "metadata": {
        "id": "dQifFZ3PWc0-"
      },
      "execution_count": null,
      "outputs": []
    },
    {
      "cell_type": "code",
      "source": [
        "encoder.classes_"
      ],
      "metadata": {
        "colab": {
          "base_uri": "https://localhost:8080/"
        },
        "id": "rzebzWMQ7o7q",
        "outputId": "397854fd-97dc-4874-b43a-37ffc6201e22"
      },
      "execution_count": null,
      "outputs": [
        {
          "output_type": "execute_result",
          "data": {
            "text/plain": [
              "array(['ang', 'exc', 'fru', 'hap', 'neu', 'sad'], dtype='<U3')"
            ]
          },
          "metadata": {},
          "execution_count": 85
        }
      ]
    },
    {
      "cell_type": "code",
      "source": [
        "y_train_audio = encoder.fit_transform(y_train_audio)\n",
        "y_test_audio = encoder.fit_transform(y_test_audio)\n",
        "y_val_audio = encoder.fit_transform(y_val_audio)"
      ],
      "metadata": {
        "id": "tdgcqY7uXlT6"
      },
      "execution_count": null,
      "outputs": []
    },
    {
      "cell_type": "code",
      "source": [
        "with open('/content/drive/MyDrive/Multimodal Emotion Tracking/Text Features/SEMEVAL-BERT/IEMOCAP_bert_train.pkl', 'rb') as f:\n",
        "    train_data_text = pickle.load(f)"
      ],
      "metadata": {
        "id": "1-14MGr7_DN7"
      },
      "execution_count": null,
      "outputs": []
    },
    {
      "cell_type": "code",
      "source": [
        "with open('/content/drive/MyDrive/Multimodal Emotion Tracking/Text Features/SEMEVAL-BERT/IEMOCAP_bert_test.pkl', 'rb') as f:\n",
        "    test_data_text = pickle.load(f)"
      ],
      "metadata": {
        "id": "E3auyY4__DT5"
      },
      "execution_count": null,
      "outputs": []
    },
    {
      "cell_type": "code",
      "source": [
        "with open('/content/drive/MyDrive/Multimodal Emotion Tracking/Text Features/SEMEVAL-BERT/IEMOCAP_bert_val.pkl', 'rb') as f:\n",
        "    val_data_text = pickle.load(f)"
      ],
      "metadata": {
        "id": "68aZoaK5_MDn"
      },
      "execution_count": null,
      "outputs": []
    },
    {
      "cell_type": "code",
      "source": [
        "train_emb = torch.tensor(train_data_text['features'])\n",
        "train_mask = torch.tensor(train_data_text['masks'])\n",
        "train_label = torch.tensor(train_data_text['labels'])"
      ],
      "metadata": {
        "id": "Fmf7MgS3_MGK"
      },
      "execution_count": null,
      "outputs": []
    },
    {
      "cell_type": "code",
      "source": [
        "test_emb = torch.tensor(test_data_text['features'])\n",
        "test_mask = torch.tensor(test_data_text['masks'])\n",
        "test_label = torch.tensor(test_data_text['labels'])"
      ],
      "metadata": {
        "id": "wmZVMgr0_MIn"
      },
      "execution_count": null,
      "outputs": []
    },
    {
      "cell_type": "code",
      "source": [
        "val_emb = torch.tensor(val_data_text['features'])\n",
        "val_mask = torch.tensor(val_data_text['masks'])\n",
        "val_label = torch.tensor(val_data_text['labels'])"
      ],
      "metadata": {
        "id": "UjS7yz5X_MLO"
      },
      "execution_count": null,
      "outputs": []
    },
    {
      "cell_type": "code",
      "source": [
        "x_train_text = train_data_text['features'].numpy()\n",
        "x_test_text = test_data_text['features'].numpy()\n",
        "x_val_text = val_data_text['features'].numpy()"
      ],
      "metadata": {
        "id": "XfasDZVj_Vdw"
      },
      "execution_count": null,
      "outputs": []
    },
    {
      "cell_type": "code",
      "source": [
        "combined_features_train = np.concatenate([x_train_text, x_train_audio, x_train_video], axis=1)\n",
        "combined_features_val = np.concatenate([x_val_text, x_val_audio, x_val_video], axis=1)\n",
        "combined_features_test = np.concatenate([x_test_text, x_test_audio, x_test_video], axis=1)"
      ],
      "metadata": {
        "id": "vI8BAztwSskY"
      },
      "execution_count": null,
      "outputs": []
    },
    {
      "cell_type": "code",
      "source": [
        "import xgboost as xgb\n",
        "from sklearn.datasets import load_iris\n",
        "from sklearn.model_selection import train_test_split\n",
        "from sklearn.metrics import accuracy_score, classification_report"
      ],
      "metadata": {
        "id": "edhba7ReLXok"
      },
      "execution_count": null,
      "outputs": []
    },
    {
      "cell_type": "code",
      "source": [
        "xgb_model = xgb.XGBClassifier(\n",
        "    objective='multi:softmax',\n",
        "    num_class=6,\n",
        "    max_depth=5,\n",
        "    learning_rate=0.1,\n",
        "    n_estimators=100,\n",
        "    random_state=37\n",
        ")"
      ],
      "metadata": {
        "id": "UczzxQtuMAmR"
      },
      "execution_count": null,
      "outputs": []
    },
    {
      "cell_type": "code",
      "source": [
        "xgb_model.fit(combined_features_train, y_dropped_video)"
      ],
      "metadata": {
        "colab": {
          "base_uri": "https://localhost:8080/",
          "height": 248
        },
        "id": "lPVZ7VVLME3a",
        "outputId": "bd05b001-4ac1-4258-94ce-b03e31a45f9a"
      },
      "execution_count": null,
      "outputs": [
        {
          "output_type": "execute_result",
          "data": {
            "text/plain": [
              "XGBClassifier(base_score=None, booster=None, callbacks=None,\n",
              "              colsample_bylevel=None, colsample_bynode=None,\n",
              "              colsample_bytree=None, device=None, early_stopping_rounds=None,\n",
              "              enable_categorical=False, eval_metric=None, feature_types=None,\n",
              "              gamma=None, grow_policy=None, importance_type=None,\n",
              "              interaction_constraints=None, learning_rate=0.1, max_bin=None,\n",
              "              max_cat_threshold=None, max_cat_to_onehot=None,\n",
              "              max_delta_step=None, max_depth=5, max_leaves=None,\n",
              "              min_child_weight=None, missing=nan, monotone_constraints=None,\n",
              "              multi_strategy=None, n_estimators=100, n_jobs=None, num_class=6,\n",
              "              num_parallel_tree=None, ...)"
            ],
            "text/html": [
              "<style>#sk-container-id-1 {color: black;background-color: white;}#sk-container-id-1 pre{padding: 0;}#sk-container-id-1 div.sk-toggleable {background-color: white;}#sk-container-id-1 label.sk-toggleable__label {cursor: pointer;display: block;width: 100%;margin-bottom: 0;padding: 0.3em;box-sizing: border-box;text-align: center;}#sk-container-id-1 label.sk-toggleable__label-arrow:before {content: \"▸\";float: left;margin-right: 0.25em;color: #696969;}#sk-container-id-1 label.sk-toggleable__label-arrow:hover:before {color: black;}#sk-container-id-1 div.sk-estimator:hover label.sk-toggleable__label-arrow:before {color: black;}#sk-container-id-1 div.sk-toggleable__content {max-height: 0;max-width: 0;overflow: hidden;text-align: left;background-color: #f0f8ff;}#sk-container-id-1 div.sk-toggleable__content pre {margin: 0.2em;color: black;border-radius: 0.25em;background-color: #f0f8ff;}#sk-container-id-1 input.sk-toggleable__control:checked~div.sk-toggleable__content {max-height: 200px;max-width: 100%;overflow: auto;}#sk-container-id-1 input.sk-toggleable__control:checked~label.sk-toggleable__label-arrow:before {content: \"▾\";}#sk-container-id-1 div.sk-estimator input.sk-toggleable__control:checked~label.sk-toggleable__label {background-color: #d4ebff;}#sk-container-id-1 div.sk-label input.sk-toggleable__control:checked~label.sk-toggleable__label {background-color: #d4ebff;}#sk-container-id-1 input.sk-hidden--visually {border: 0;clip: rect(1px 1px 1px 1px);clip: rect(1px, 1px, 1px, 1px);height: 1px;margin: -1px;overflow: hidden;padding: 0;position: absolute;width: 1px;}#sk-container-id-1 div.sk-estimator {font-family: monospace;background-color: #f0f8ff;border: 1px dotted black;border-radius: 0.25em;box-sizing: border-box;margin-bottom: 0.5em;}#sk-container-id-1 div.sk-estimator:hover {background-color: #d4ebff;}#sk-container-id-1 div.sk-parallel-item::after {content: \"\";width: 100%;border-bottom: 1px solid gray;flex-grow: 1;}#sk-container-id-1 div.sk-label:hover label.sk-toggleable__label {background-color: #d4ebff;}#sk-container-id-1 div.sk-serial::before {content: \"\";position: absolute;border-left: 1px solid gray;box-sizing: border-box;top: 0;bottom: 0;left: 50%;z-index: 0;}#sk-container-id-1 div.sk-serial {display: flex;flex-direction: column;align-items: center;background-color: white;padding-right: 0.2em;padding-left: 0.2em;position: relative;}#sk-container-id-1 div.sk-item {position: relative;z-index: 1;}#sk-container-id-1 div.sk-parallel {display: flex;align-items: stretch;justify-content: center;background-color: white;position: relative;}#sk-container-id-1 div.sk-item::before, #sk-container-id-1 div.sk-parallel-item::before {content: \"\";position: absolute;border-left: 1px solid gray;box-sizing: border-box;top: 0;bottom: 0;left: 50%;z-index: -1;}#sk-container-id-1 div.sk-parallel-item {display: flex;flex-direction: column;z-index: 1;position: relative;background-color: white;}#sk-container-id-1 div.sk-parallel-item:first-child::after {align-self: flex-end;width: 50%;}#sk-container-id-1 div.sk-parallel-item:last-child::after {align-self: flex-start;width: 50%;}#sk-container-id-1 div.sk-parallel-item:only-child::after {width: 0;}#sk-container-id-1 div.sk-dashed-wrapped {border: 1px dashed gray;margin: 0 0.4em 0.5em 0.4em;box-sizing: border-box;padding-bottom: 0.4em;background-color: white;}#sk-container-id-1 div.sk-label label {font-family: monospace;font-weight: bold;display: inline-block;line-height: 1.2em;}#sk-container-id-1 div.sk-label-container {text-align: center;}#sk-container-id-1 div.sk-container {/* jupyter's `normalize.less` sets `[hidden] { display: none; }` but bootstrap.min.css set `[hidden] { display: none !important; }` so we also need the `!important` here to be able to override the default hidden behavior on the sphinx rendered scikit-learn.org. See: https://github.com/scikit-learn/scikit-learn/issues/21755 */display: inline-block !important;position: relative;}#sk-container-id-1 div.sk-text-repr-fallback {display: none;}</style><div id=\"sk-container-id-1\" class=\"sk-top-container\"><div class=\"sk-text-repr-fallback\"><pre>XGBClassifier(base_score=None, booster=None, callbacks=None,\n",
              "              colsample_bylevel=None, colsample_bynode=None,\n",
              "              colsample_bytree=None, device=None, early_stopping_rounds=None,\n",
              "              enable_categorical=False, eval_metric=None, feature_types=None,\n",
              "              gamma=None, grow_policy=None, importance_type=None,\n",
              "              interaction_constraints=None, learning_rate=0.1, max_bin=None,\n",
              "              max_cat_threshold=None, max_cat_to_onehot=None,\n",
              "              max_delta_step=None, max_depth=5, max_leaves=None,\n",
              "              min_child_weight=None, missing=nan, monotone_constraints=None,\n",
              "              multi_strategy=None, n_estimators=100, n_jobs=None, num_class=6,\n",
              "              num_parallel_tree=None, ...)</pre><b>In a Jupyter environment, please rerun this cell to show the HTML representation or trust the notebook. <br />On GitHub, the HTML representation is unable to render, please try loading this page with nbviewer.org.</b></div><div class=\"sk-container\" hidden><div class=\"sk-item\"><div class=\"sk-estimator sk-toggleable\"><input class=\"sk-toggleable__control sk-hidden--visually\" id=\"sk-estimator-id-1\" type=\"checkbox\" checked><label for=\"sk-estimator-id-1\" class=\"sk-toggleable__label sk-toggleable__label-arrow\">XGBClassifier</label><div class=\"sk-toggleable__content\"><pre>XGBClassifier(base_score=None, booster=None, callbacks=None,\n",
              "              colsample_bylevel=None, colsample_bynode=None,\n",
              "              colsample_bytree=None, device=None, early_stopping_rounds=None,\n",
              "              enable_categorical=False, eval_metric=None, feature_types=None,\n",
              "              gamma=None, grow_policy=None, importance_type=None,\n",
              "              interaction_constraints=None, learning_rate=0.1, max_bin=None,\n",
              "              max_cat_threshold=None, max_cat_to_onehot=None,\n",
              "              max_delta_step=None, max_depth=5, max_leaves=None,\n",
              "              min_child_weight=None, missing=nan, monotone_constraints=None,\n",
              "              multi_strategy=None, n_estimators=100, n_jobs=None, num_class=6,\n",
              "              num_parallel_tree=None, ...)</pre></div></div></div></div></div>"
            ]
          },
          "metadata": {},
          "execution_count": 60
        }
      ]
    },
    {
      "cell_type": "code",
      "source": [
        "predictions = xgb_model.predict(combined_features_test)"
      ],
      "metadata": {
        "id": "ROHCqfFqMNsS"
      },
      "execution_count": null,
      "outputs": []
    },
    {
      "cell_type": "code",
      "source": [
        "predictions = xgb_model.predict(combined_features_test_set)"
      ],
      "metadata": {
        "id": "8XR_TQjK3Osn"
      },
      "execution_count": null,
      "outputs": []
    },
    {
      "cell_type": "code",
      "source": [
        "predictions"
      ],
      "metadata": {
        "colab": {
          "base_uri": "https://localhost:8080/"
        },
        "id": "yOKPKRP_3Qrs",
        "outputId": "2cfebc87-0010-4310-d740-a2059250a2b3"
      },
      "execution_count": null,
      "outputs": [
        {
          "output_type": "execute_result",
          "data": {
            "text/plain": [
              "array([0, 0, 2, 0, 2, 0, 0, 2, 0, 2, 5], dtype=int32)"
            ]
          },
          "metadata": {},
          "execution_count": 66
        }
      ]
    },
    {
      "cell_type": "code",
      "source": [
        "[0, 0, 2, 0, 2, 0, 0, 2, 0, 2, 5]"
      ],
      "metadata": {
        "id": "xihd1mqK5hKr"
      },
      "execution_count": null,
      "outputs": []
    },
    {
      "cell_type": "code",
      "source": [
        "y_test_set_video"
      ],
      "metadata": {
        "colab": {
          "base_uri": "https://localhost:8080/"
        },
        "id": "7VP9i7VK8qph",
        "outputId": "34ac9c58-5d8e-4217-f992-7f5d530326e7"
      },
      "execution_count": null,
      "outputs": [
        {
          "output_type": "execute_result",
          "data": {
            "text/plain": [
              "array([2, 0, 4, 4, 2, 4, 0, 2, 0, 2, 2])"
            ]
          },
          "metadata": {},
          "execution_count": 97
        }
      ]
    },
    {
      "cell_type": "code",
      "source": [
        "test_classes"
      ],
      "metadata": {
        "colab": {
          "base_uri": "https://localhost:8080/"
        },
        "id": "loEeZKS4Olag",
        "outputId": "62e741da-982e-48db-e168-794a20d761b7"
      },
      "execution_count": null,
      "outputs": [
        {
          "output_type": "execute_result",
          "data": {
            "text/plain": [
              "['fru', 'ang', 'neu', 'neu', 'fru', 'neu', 'ang', 'fru', 'ang', 'fru', 'fru']"
            ]
          },
          "metadata": {},
          "execution_count": 123
        }
      ]
    },
    {
      "cell_type": "code",
      "source": [
        "classes = encoder.classes_"
      ],
      "metadata": {
        "id": "De6Tey823ui1"
      },
      "execution_count": null,
      "outputs": []
    },
    {
      "cell_type": "code",
      "source": [
        "encoder.fit_transform(y_test_set_video)"
      ],
      "metadata": {
        "colab": {
          "base_uri": "https://localhost:8080/"
        },
        "id": "aWdwYcm53Sgc",
        "outputId": "e514e440-1c08-4cff-e52b-250914468379"
      },
      "execution_count": null,
      "outputs": [
        {
          "output_type": "execute_result",
          "data": {
            "text/plain": [
              "array([1, 0, 2, 2, 1, 2, 0, 1, 0, 1, 1])"
            ]
          },
          "metadata": {},
          "execution_count": 88
        }
      ]
    },
    {
      "cell_type": "code",
      "source": [
        "print(classification_report(y_test_audio, predictions))"
      ],
      "metadata": {
        "colab": {
          "base_uri": "https://localhost:8080/"
        },
        "id": "G4H8Y34DMlys",
        "outputId": "5c610be2-5522-4db9-99ce-9ed3964ed6fe"
      },
      "execution_count": null,
      "outputs": [
        {
          "output_type": "stream",
          "name": "stdout",
          "text": [
            "              precision    recall  f1-score   support\n",
            "\n",
            "           0       0.58      0.50      0.54       228\n",
            "           1       0.61      0.55      0.58       200\n",
            "           2       0.51      0.56      0.54       388\n",
            "           3       0.46      0.30      0.37       112\n",
            "           4       0.52      0.58      0.55       359\n",
            "           5       0.65      0.70      0.67       198\n",
            "\n",
            "    accuracy                           0.55      1485\n",
            "   macro avg       0.56      0.53      0.54      1485\n",
            "weighted avg       0.55      0.55      0.55      1485\n",
            "\n"
          ]
        }
      ]
    },
    {
      "cell_type": "code",
      "source": [
        "from sklearn.metrics import confusion_matrix, ConfusionMatrixDisplay\n",
        "import matplotlib.pyplot as plt\n",
        "cm = confusion_matrix(y_test_audio, predictions)\n",
        "etiketler = ['hap', 'fru', 'neu', 'ang', 'sad', 'exc']\n",
        "# Karışıklık matrisini görselleştirin\n",
        "labels = encoder.inverse_transform(np.arange(len(etiketler)))\n",
        "disp = ConfusionMatrixDisplay(confusion_matrix=cm, display_labels = labels)\n",
        "disp.plot(cmap=plt.cm.Blues)\n",
        "plt.show()"
      ],
      "metadata": {
        "id": "vj-V3fjOM13s",
        "colab": {
          "base_uri": "https://localhost:8080/",
          "height": 449
        },
        "outputId": "e55ee44a-c9f6-4669-9457-092d663779db"
      },
      "execution_count": null,
      "outputs": [
        {
          "output_type": "display_data",
          "data": {
            "text/plain": [
              "<Figure size 640x480 with 2 Axes>"
            ],
            "image/png": "[encoded data removed]"
          },
          "metadata": {}
        }
      ]
    },
    {
      "cell_type": "code",
      "source": [
        "import joblib\n",
        "joblib.dump(xgb_model, 'xgb_model.pkl')\n"
      ],
      "metadata": {
        "colab": {
          "base_uri": "https://localhost:8080/"
        },
        "id": "pLRy9430M_n2",
        "outputId": "4fe33547-70d6-4c6b-c7cc-8517b3c4cb02"
      },
      "execution_count": null,
      "outputs": [
        {
          "output_type": "execute_result",
          "data": {
            "text/plain": [
              "['xgb_model.pkl']"
            ]
          },
          "metadata": {},
          "execution_count": 67
        }
      ]
    },
    {
      "cell_type": "code",
      "source": [
        "\n",
        "# Load the model from the file\n",
        "loaded_model = joblib.load('xgb_model.pkl')\n"
      ],
      "metadata": {
        "id": "-FpeF95-NFxK"
      },
      "execution_count": null,
      "outputs": []
    },
    {
      "cell_type": "code",
      "source": [
        "p = loaded_model.predict(combined_features_test)"
      ],
      "metadata": {
        "id": "Jjtf4smFNIE4"
      },
      "execution_count": null,
      "outputs": []
    },
    {
      "cell_type": "code",
      "source": [
        "p"
      ],
      "metadata": {
        "colab": {
          "base_uri": "https://localhost:8080/"
        },
        "id": "IAegwFPhNL4H",
        "outputId": "39253b00-c559-486a-88e0-e418e75b5f17"
      },
      "execution_count": null,
      "outputs": [
        {
          "output_type": "execute_result",
          "data": {
            "text/plain": [
              "array([0, 0, 2, 0, 2, 0, 0, 2, 0, 2, 5], dtype=int32)"
            ]
          },
          "metadata": {},
          "execution_count": 70
        }
      ]
    },
    {
      "cell_type": "code",
      "source": [
        "predict_classes"
      ],
      "metadata": {
        "colab": {
          "base_uri": "https://localhost:8080/"
        },
        "id": "7BSu--eSOYEI",
        "outputId": "f09c4473-4039-48ff-e88e-86d1b23d01bd"
      },
      "execution_count": null,
      "outputs": [
        {
          "output_type": "execute_result",
          "data": {
            "text/plain": [
              "['ang', 'ang', 'fru', 'neu', 'fru', 'neu', 'ang', 'fru', 'ang', 'fru', 'sad']"
            ]
          },
          "metadata": {},
          "execution_count": 121
        }
      ]
    },
    {
      "cell_type": "code",
      "source": [],
      "metadata": {
        "id": "I3dwfZdGOxtm"
      },
      "execution_count": null,
      "outputs": []
    }
  ]
}
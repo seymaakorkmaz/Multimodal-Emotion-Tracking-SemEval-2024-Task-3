{
  "nbformat": 4,
  "nbformat_minor": 0,
  "metadata": {
    "colab": {
      "provenance": []
    },
    "kernelspec": {
      "name": "python3",
      "display_name": "Python 3"
    },
    "language_info": {
      "name": "python"
    }
  },
  "cells": [
    {
      "cell_type": "code",
      "source": [
        "from google.colab import drive\n",
        "drive.mount('/content/drive')"
      ],
      "metadata": {
        "colab": {
          "base_uri": "https://localhost:8080/"
        },
        "id": "Bfnevee0EIM6",
        "outputId": "2b722046-3f14-4f29-e43a-9a80325ad0c3"
      },
      "execution_count": null,
      "outputs": [
        {
          "output_type": "stream",
          "name": "stdout",
          "text": [
            "Drive already mounted at /content/drive; to attempt to forcibly remount, call drive.mount(\"/content/drive\", force_remount=True).\n"
          ]
        }
      ]
    },
    {
      "cell_type": "code",
      "execution_count": null,
      "metadata": {
        "id": "dS2ZtqqZCwNY"
      },
      "outputs": [],
      "source": [
        "pip install opensmile"
      ]
    },
    {
      "cell_type": "code",
      "source": [
        "import pandas as pd\n",
        "import opensmile\n",
        "import os\n",
        "from sklearn import svm\n",
        "from sklearn.model_selection import train_test_split\n",
        "from sklearn.preprocessing import StandardScaler\n",
        "from sklearn.decomposition import PCA\n",
        "import warnings\n",
        "warnings.filterwarnings(\"ignore\")\n",
        "import json"
      ],
      "metadata": {
        "id": "fXw3saTCGRGH"
      },
      "execution_count": null,
      "outputs": []
    },
    {
      "cell_type": "code",
      "source": [
        "file_path1 = '/content/drive/My Drive/Multimodal Emotion Tracking/Video with Audio/train_1/audio/'\n",
        "file_path2 = '/content/drive/My Drive/Multimodal Emotion Tracking/Video with Audio/train_2/audio/'"
      ],
      "metadata": {
        "id": "6Zw2LeSIC0wZ"
      },
      "execution_count": null,
      "outputs": []
    },
    {
      "cell_type": "code",
      "source": [
        "with open('Subtask_2_train.json') as f:\n",
        "  text = json.load(f)"
      ],
      "metadata": {
        "id": "MkrjLHB_ovK3"
      },
      "execution_count": null,
      "outputs": []
    },
    {
      "cell_type": "code",
      "source": [
        "dict= {}\n",
        "for dia in text:\n",
        "  conv = dia[\"conversation\"]\n",
        "  for utt in conv:\n",
        "    dict[utt['video_name']] = utt['emotion']"
      ],
      "metadata": {
        "id": "BF21Ia_xpgzl"
      },
      "execution_count": null,
      "outputs": []
    },
    {
      "cell_type": "code",
      "source": [
        "ses_dosyalari = []\n",
        "\n",
        "for f in os.listdir(file_path1):\n",
        "    ses_dosyalari.append(os.path.join(file_path1, f))\n",
        "\n",
        "for f in os.listdir(file_path2):\n",
        "    ses_dosyalari.append(os.path.join(file_path2, f))"
      ],
      "metadata": {
        "id": "bEAye3G3NdoR"
      },
      "execution_count": null,
      "outputs": []
    },
    {
      "cell_type": "code",
      "source": [
        "train_files, val_files = train_test_split(ses_dosyalari, test_size=0.10, random_state=42)\n",
        "train_files, test_files = train_test_split(train_files, test_size=0.20, random_state=42)"
      ],
      "metadata": {
        "id": "s7h2uCPXQef1"
      },
      "execution_count": null,
      "outputs": []
    },
    {
      "cell_type": "code",
      "source": [
        "smile = opensmile.Smile(\n",
        "    feature_set=opensmile.FeatureSet.ComParE_2016,\n",
        "    feature_level=\"HLD\",\n",
        ")"
      ],
      "metadata": {
        "id": "OjzSYiK4RN5b"
      },
      "execution_count": null,
      "outputs": []
    },
    {
      "cell_type": "code",
      "source": [
        "smile"
      ],
      "metadata": {
        "colab": {
          "base_uri": "https://localhost:8080/"
        },
        "id": "8q_7yF3x2t60",
        "outputId": "58f57ceb-534f-4b19-d4d8-1a66ac4c5850"
      },
      "execution_count": null,
      "outputs": [
        {
          "output_type": "execute_result",
          "data": {
            "text/plain": [
              "{'$opensmile.core.smile.Smile': {'feature_set': 'ComParE_2016', 'feature_level': 'Functionals', 'options': {}, 'sampling_rate': None, 'channels': [0], 'mixdown': False, 'resample': False}}"
            ]
          },
          "metadata": {},
          "execution_count": 6
        }
      ]
    },
    {
      "cell_type": "code",
      "source": [
        "df = pd.DataFrame()\n",
        "for file in train_files:\n",
        "    header = file.split(\"audio/\")[-1]\n",
        "    header = header.replace(\".wav\", \"\")\n",
        "    features = smile.process_file(file)\n",
        "    features['emotion'] = dict[header+\".mp4\"]\n",
        "    df = df.append(features, ignore_index=True)"
      ],
      "metadata": {
        "id": "dYcp8XdJROg0"
      },
      "execution_count": null,
      "outputs": []
    },
    {
      "cell_type": "code",
      "source": [
        "df.to_csv('/content/drive/My Drive/Multimodal Emotion Tracking/Video with Audio/_features.csv', index=False)"
      ],
      "metadata": {
        "id": "_0krlBijROrv"
      },
      "execution_count": null,
      "outputs": []
    },
    {
      "cell_type": "code",
      "source": [
        "df = pd.DataFrame()\n",
        "for file in test_files:\n",
        "    header = file.split(\"audio/\")[-1]\n",
        "    header = header.replace(\".wav\", \"\")\n",
        "    features = smile.process_file(file)\n",
        "    features['emotion'] = dict[header+\".mp4\"]\n",
        "    df = df.append(features, ignore_index=True)"
      ],
      "metadata": {
        "id": "M3q3kWsyEzR5"
      },
      "execution_count": null,
      "outputs": []
    },
    {
      "cell_type": "code",
      "source": [
        "df.to_csv('/content/drive/My Drive/Multimodal Emotion Tracking/Video with Audio/test_features.csv', index=False)"
      ],
      "metadata": {
        "id": "iKv8jCxTFsLG"
      },
      "execution_count": null,
      "outputs": []
    },
    {
      "cell_type": "code",
      "source": [
        "df = pd.DataFrame()\n",
        "for file in val_files:\n",
        "    header = file.split(\"audio/\")[-1]\n",
        "    header = header.replace(\".wav\", \"\")\n",
        "    features = smile.process_file(file)\n",
        "    features['emotion'] = dict[header+\".mp4\"]\n",
        "    df = df.append(features, ignore_index=True)"
      ],
      "metadata": {
        "id": "jnjxTSzDmBQR"
      },
      "execution_count": null,
      "outputs": []
    },
    {
      "cell_type": "code",
      "source": [
        "df.to_csv('/content/drive/My Drive/Multimodal Emotion Tracking/Video with Audio/validation_features.csv', index=False)"
      ],
      "metadata": {
        "id": "YK_NsOxovzJ0"
      },
      "execution_count": null,
      "outputs": []
    },
    {
      "cell_type": "code",
      "source": [],
      "metadata": {
        "id": "hUtcbq0eJd6C"
      },
      "execution_count": null,
      "outputs": []
    }
  ]
}